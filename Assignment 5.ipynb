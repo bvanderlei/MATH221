{
 "cells": [
  {
   "cell_type": "markdown",
   "id": "5eb54316",
   "metadata": {},
   "source": [
    "# MATH 221: Assignment 5\n",
    "<h3><font color= red>  Due Apr. 14  </font></h3>\n",
    "<h4> Up to three students may submit the same notebook.  Enter the names of all students who contributed to the assignment in the next cell.</h4>\n",
    "<h4> Please also include your names in the name of the notebook file you submit to Blackboard.</h4>\n",
    "<br><br>"
   ]
  },
  {
   "cell_type": "markdown",
   "id": "6d81fb37",
   "metadata": {},
   "source": [
    "## Names:\n",
    "\n",
    "<br>"
   ]
  },
  {
   "cell_type": "code",
   "execution_count": 16,
   "id": "dd1883e9",
   "metadata": {},
   "outputs": [],
   "source": [
    "## IMPORTANT!!  Execute this import cell each time before you begin working.\n",
    "## Before you begin, transfer the laguide.py file from Blackboard to the JupyterHub.\n",
    "\n",
    "import numpy as np\n",
    "import laguide as lag\n"
   ]
  },
  {
   "cell_type": "markdown",
   "id": "0cbbe0cb",
   "metadata": {},
   "source": [
    "<br><br><br>\n",
    "\n",
    "### Power method estimates for eigenvalues\n",
    "\n",
    "\n",
    "In the first problem, you will use the Power Method to esimate the eigenvector associated with largest eigenvalue of the matrix $A$.\n",
    "\n",
    "$$\n",
    "\\begin{equation}\n",
    "A = \\left[ \\begin{array}{rrrrr}\n",
    "2 & -1 & -1 & 1 \\\\  \n",
    "-1 & 4 & -3 & 2 \\\\\n",
    "-1 & -3 & 0 & 2 \\\\\n",
    "1 & 2 & 2  & 6\n",
    "\\end{array} \\right] \n",
    "\\end{equation}\n",
    "$$\n",
    "\n"
   ]
  },
  {
   "cell_type": "code",
   "execution_count": 15,
   "id": "98bb67bd",
   "metadata": {},
   "outputs": [],
   "source": [
    "A = np.array([[2,-1,-1,1],[-1,4,-3,2],[-1,-3,0,2],[1,2,2,6]])\n"
   ]
  },
  {
   "cell_type": "markdown",
   "id": "3e9013f0",
   "metadata": {},
   "source": [
    "The idea is to build a sequence of vectors $\\{x_0$, $x_1$, $x_2$, ...\\} by multiplying by $A$ and scaling to unit length.  We'll choose a vector at random to start the sequence."
   ]
  },
  {
   "cell_type": "code",
   "execution_count": null,
   "id": "4ebfd667",
   "metadata": {},
   "outputs": [],
   "source": [
    "## Choose something here for the intial x_0\n",
    "\n",
    "x = np.array([[1],[1],[1],[1]])\n",
    "print(x)"
   ]
  },
  {
   "cell_type": "markdown",
   "id": "7117d1fd",
   "metadata": {},
   "source": [
    "Starting with $x_0$, we multiply by $A$ and scale the result to unit length to find $x_1$."
   ]
  },
  {
   "cell_type": "code",
   "execution_count": null,
   "id": "3ad63aa7",
   "metadata": {},
   "outputs": [],
   "source": [
    "x = A@x\n",
    "x = x/(lag.Magnitude(x))\n",
    "print(x)"
   ]
  },
  {
   "cell_type": "markdown",
   "id": "d77316a6",
   "metadata": {},
   "source": [
    "Repeat to find $x_2$ from $x_1$."
   ]
  },
  {
   "cell_type": "code",
   "execution_count": null,
   "id": "26c347c8",
   "metadata": {},
   "outputs": [],
   "source": [
    "x = A@x\n",
    "x = x/(lag.Magnitude(x))\n",
    "print(x)"
   ]
  },
  {
   "cell_type": "markdown",
   "id": "b7c072f9",
   "metadata": {},
   "source": [
    "Instead of reapeating the code, we tuck these two commands inside of a loop that runs $k$ times.  We could print out each $x_k$ but that might be too much output if $k$ is large.  Instead, maybe we just print the final result.\n"
   ]
  },
  {
   "cell_type": "code",
   "execution_count": 14,
   "id": "4765f638",
   "metadata": {},
   "outputs": [],
   "source": [
    "## Choose a starting x_0\n",
    "x = np.array([[1],[1],[1],[1]])\n",
    "## Choose the number of steps to take in the sequence\n",
    "k = 4\n",
    "for i in range(k):\n",
    "    x = A@x\n",
    "    x = x/lag.Magnitude(x)\n"
   ]
  },
  {
   "cell_type": "markdown",
   "id": "ba533ebc",
   "metadata": {},
   "source": [
    "### Problem 1a:\n",
    "\n",
    "Experiment to determine how large $k$ must be so that $x_k$ and $x_{k+1}$ are approximately the same.  Specifically, find a $k$ so that $||x_{k+1}-x_k||< 10^{-8}$.  Demonstrate with a computation.\n",
    "\n"
   ]
  },
  {
   "cell_type": "markdown",
   "id": "90149df9",
   "metadata": {},
   "source": [
    "<h3><font color=blue> Answer 1a </font> </h3>\n",
    "\n"
   ]
  },
  {
   "cell_type": "code",
   "execution_count": null,
   "id": "60bf4a73",
   "metadata": {},
   "outputs": [],
   "source": [
    "## Choose a starting x_0\n",
    "x = np.array([[1],[1],[1],[1]])\n",
    "## Choose the number of steps to take in the sequence\n",
    "k = 2\n",
    "\n",
    "for i in range(k):\n",
    "    x = A@x\n",
    "    x = x/lag.Magnitude(x)\n"
   ]
  },
  {
   "cell_type": "markdown",
   "id": "76d9c532",
   "metadata": {},
   "source": [
    "<br><br>\n",
    "\n",
    "### Problem 1b:\n",
    "\n",
    "The vector from the previous computation must be an approximate eigenvector of $A$.  Use the eigenvector to estimate the associated eigenvalue of $A$.  \n",
    "\n",
    "\n",
    "<br><br><br>\n",
    "\n",
    "### Answer 1b:\n"
   ]
  },
  {
   "cell_type": "code",
   "execution_count": null,
   "id": "cfc6e3dd",
   "metadata": {},
   "outputs": [],
   "source": [
    "## CODE HERE\n"
   ]
  },
  {
   "cell_type": "markdown",
   "id": "fe5fdc08",
   "metadata": {},
   "source": [
    "<br><br><br>\n",
    "\n",
    "### Problem 1c\n",
    "\n",
    "Now if $A$ is invertible and $\\lambda$ is an eigenvalue so that $Ax=\\lambda x$, then $\\frac{1}{\\lambda}$ must be an eigenvalue of $A^{-1}$ since $x = \\lambda A^{-1}x$.  This means that the smallest eigenvalue of $A$ is the *largest* eigenvalue of $A^{-1}$.  Use this idea to estimate the smallest eigenvalue of $A$ using the Power Method.  **Verify your answer** by checking that $Ax=\\lambda x$ for your $\\lambda$ and $x$."
   ]
  },
  {
   "cell_type": "markdown",
   "id": "50405964",
   "metadata": {},
   "source": [
    "<h3><font color=blue> Answer 1c </font> </h3>\n",
    "\n"
   ]
  },
  {
   "cell_type": "code",
   "execution_count": 13,
   "id": "e98a8197",
   "metadata": {},
   "outputs": [],
   "source": [
    "## CODE HERE\n"
   ]
  },
  {
   "cell_type": "markdown",
   "id": "662e9a42",
   "metadata": {},
   "source": [
    "<br><br><br>\n",
    "\n",
    "### Problem 2a\n",
    "\n",
    "Suppose that a survey estimates that each year in BC 15\\% of Liberals switch to the Green Party, and 20\\% switch\n",
    "to the NDP.  The surve also estimates that 20\\% of NDP members switch to the Liberals, 15\\% of NDP members switch to the Green Party,\n",
    "10\\% of Green Party members change to the NDP, and 10\\% of Green Party members switch to the Liberals.\n",
    "\n",
    "Let $N_k$, $G_k$, and $L_k$ be the proportions of NDP, Liberal, and Green members at year $k$, and let $x$ be the vector with\n",
    "these components.  Write down the transition matrix $A$ so that $Ax_k=x_{k-1}$."
   ]
  },
  {
   "cell_type": "markdown",
   "id": "7637c75f",
   "metadata": {},
   "source": [
    "<h3><font color=blue> Answer 2a </font> </h3>\n",
    "\n",
    "\n",
    "$$\n",
    "\\begin{equation}\n",
    "A = \\left[ \\begin{array}{rrr}  \n",
    "* & * & *  \\\\\n",
    "* & * & *  \\\\\n",
    "* & * & *   \n",
    "\\end{array} \\right] \n",
    "\\end{equation}\n",
    "$$\n"
   ]
  },
  {
   "cell_type": "markdown",
   "id": "9dad9a25",
   "metadata": {},
   "source": [
    "<br><br><br>\n",
    "\n",
    "### Problem 2b\n",
    "\n",
    "Find the equilibrium proportion of $N_k$, $G_k$, and $L_k$ and verify that it is an equilbrium with a computation.\n",
    "\n",
    "<br>\n",
    "<br>\n",
    "\n",
    "<h3><font color=blue> Answer 2b </font> </h3>\n",
    "\n"
   ]
  },
  {
   "cell_type": "markdown",
   "id": "cf2c8b67",
   "metadata": {},
   "source": [
    "(*Type your answer here*.)"
   ]
  }
 ],
 "metadata": {
  "kernelspec": {
   "display_name": "Python 3",
   "language": "python",
   "name": "python3"
  },
  "language_info": {
   "codemirror_mode": {
    "name": "ipython",
    "version": 3
   },
   "file_extension": ".py",
   "mimetype": "text/x-python",
   "name": "python",
   "nbconvert_exporter": "python",
   "pygments_lexer": "ipython3",
   "version": "3.7.3"
  }
 },
 "nbformat": 4,
 "nbformat_minor": 5
}
