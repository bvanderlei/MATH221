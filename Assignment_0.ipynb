{
 "cells": [
  {
   "cell_type": "markdown",
   "id": "82058886",
   "metadata": {},
   "source": [
    "# MATH 221: Assignment 0\n",
    "<h3><font color= red>  Due Jan. 12 </font></h3>\n",
    "<h3><font color= red>  All students should submit this assignment individually. </font></h3>\n",
    "\n",
    "<br><br>\n",
    "\n"
   ]
  },
  {
   "cell_type": "markdown",
   "id": "daab35ea",
   "metadata": {},
   "source": [
    "This assignment does not involve any Linear Algebra.  It only requires making some edits to this notebook.  In future assignments, there will be a questions throughout the assignment that you will need to answer. There will be an \"Answer Cell\" below each question where you will type your answer or enter some Python code.  \n",
    "\n",
    "It will be helpful to first read through some of the Jupyter Introduction notebook before completing this assignment."
   ]
  },
  {
   "cell_type": "markdown",
   "id": "38b53a4f",
   "metadata": {},
   "source": [
    "<h3> Question 1</h3>\n",
    "\n",
    "What is your name? "
   ]
  },
  {
   "cell_type": "markdown",
   "id": "71c298d5",
   "metadata": {},
   "source": [
    "<h3><font color= blue> Answer 1 </font> </h3>\n",
    "\n",
    "*Type your answer here.*"
   ]
  },
  {
   "cell_type": "markdown",
   "id": "447af52b",
   "metadata": {},
   "source": [
    "<h3> Question 2</h3>\n",
    "\n",
    "What is your intended major? "
   ]
  },
  {
   "cell_type": "markdown",
   "id": "b96af2ff",
   "metadata": {},
   "source": [
    "<h3><font color= blue> Answer 2 </font> </h3>\n",
    "\n",
    "*Type your answer here.*"
   ]
  },
  {
   "cell_type": "markdown",
   "id": "94a4e008",
   "metadata": {},
   "source": [
    "<h3> Question 3</h3>\n",
    "\n",
    "Edit the Latex code in the answer and replace all of the star entries in the matrix $A$ with the digit 7.\n"
   ]
  },
  {
   "cell_type": "markdown",
   "id": "1cfde529",
   "metadata": {},
   "source": [
    "<h3><font color= blue> Answer 3 </font> </h3>\n",
    "\n",
    "$$\n",
    "\\begin{equation}\n",
    "A = \\left[ \\begin{array}{rrr}  1 & * & 0\\\\  * & 2 & 1  \\\\ 3 & 1 & * \\end{array} \\right] \n",
    "\\end{equation}\n",
    "$$\n"
   ]
  },
  {
   "cell_type": "markdown",
   "id": "57e699ed",
   "metadata": {},
   "source": [
    "<h3> Question 4</h3>\n",
    "\n",
    "Edit the Python code in the answer to assign the matrix in Question 3 to the variable $A$."
   ]
  },
  {
   "cell_type": "markdown",
   "id": "1b34fea0",
   "metadata": {},
   "source": [
    "<h3><font color= blue> Answer 4 </font> </h3>"
   ]
  },
  {
   "cell_type": "code",
   "execution_count": null,
   "id": "8e627cf2",
   "metadata": {},
   "outputs": [],
   "source": [
    "import numpy as np\n",
    "\n",
    "A = np.array([[1,7,0],[7,2,1]])\n",
    "\n",
    "print(A)"
   ]
  },
  {
   "cell_type": "markdown",
   "id": "595af028",
   "metadata": {},
   "source": [
    "<h3> Upload to Blackboard</h3>\n",
    "\n",
    "Save your notebook.  Use the Download option from the File menu to download the notebook.  There are several options.  Choose to **download as Notebook** and add your own name to the name of the file so that it looks something like this: $\\textrm{Assignment_0BenVanderlei.ipynb}$\n",
    "\n",
    "Upload your file to Blackboard.  That's it!"
   ]
  }
 ],
 "metadata": {
  "kernelspec": {
   "display_name": "Python 3",
   "language": "python",
   "name": "python3"
  },
  "language_info": {
   "codemirror_mode": {
    "name": "ipython",
    "version": 3
   },
   "file_extension": ".py",
   "mimetype": "text/x-python",
   "name": "python",
   "nbconvert_exporter": "python",
   "pygments_lexer": "ipython3",
   "version": "3.7.3"
  }
 },
 "nbformat": 4,
 "nbformat_minor": 5
}
