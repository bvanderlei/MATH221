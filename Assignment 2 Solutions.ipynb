{
 "cells": [
  {
   "cell_type": "markdown",
   "id": "5eb54316",
   "metadata": {},
   "source": [
    "# MATH 221: Assignment 2\n",
    "<h3><font color= red>  Due Feb. 2 </font></h3>\n",
    "<h3> Up to three students may submit the same notebook.  Enter the names of all students who contributed to the assignment on the next line.</h3>\n",
    "<br><br>"
   ]
  },
  {
   "cell_type": "markdown",
   "id": "6d81fb37",
   "metadata": {},
   "source": [
    "## Names:\n",
    "\n",
    "<br>"
   ]
  },
  {
   "cell_type": "code",
   "execution_count": 3,
   "id": "dd1883e9",
   "metadata": {},
   "outputs": [],
   "source": [
    "## IMPORTANT!!  Execute this import cell each time before you begin working.\n",
    "## Before you begin, transfer the laguide.py file from Blackboard to the JupyterHub.\n",
    "\n",
    "import numpy as np\n",
    "import laguide as lag"
   ]
  },
  {
   "cell_type": "markdown",
   "id": "0cbbe0cb",
   "metadata": {},
   "source": [
    "<br><br><br>\n",
    "\n",
    "### Problem 1a\n",
    "\n",
    "\n",
    "Find the $LU$ factorization of $A$ in the case that $v_2 \\neq 0$.\n",
    "\n",
    "$$\n",
    "\\begin{equation}\n",
    "A = \\left[ \\begin{array}{rrrr}  \n",
    "1 & v_1 & 0 & 0 \\\\  \n",
    "0 & v_2 & 0 & 0 \\\\ \n",
    "0 & v_3 & 1 & 0 \\\\ \n",
    "0 & v_4 & 0 & 1\n",
    "\\end{array} \\right] \n",
    "\\end{equation}\n",
    "$$\n"
   ]
  },
  {
   "cell_type": "markdown",
   "id": "1601999f",
   "metadata": {},
   "source": [
    "<h3><font color=blue> Answer 1a </font> </h3>\n",
    "\n",
    "Do row operations to bring $A$ to $U$.  The entries in $L$ are the negative of the scalars used to create the zeros in the corresponding position in $U$.\n",
    "\n",
    "$$\n",
    "\\begin{equation}\n",
    "L = \\left[ \\begin{array}{rrrr}  \n",
    "1 & 0 & 0 & 0 \\\\  \n",
    "0 & 1 & 0 & 0 \\\\ \n",
    "0 & \\frac{v_3}{v_2} & 1 & 0 \\\\\n",
    "0 & \\frac{v_4}{v_2} & 0 & 1 \\\\\n",
    "\\end{array} \\right]\n",
    "\\quad\\quad\n",
    "U = \\left[ \\begin{array}{rrrr}  \n",
    "1 & v_1 & 0 & 0 \\\\  \n",
    "0 & v_2 & 0 & 0 \\\\ \n",
    "0 & 0 & 1 & 0 \\\\\n",
    "0 & 0 & 0 & 1 \\\\\n",
    "\\end{array} \\right] \n",
    "\\end{equation}\n",
    "$$\n"
   ]
  },
  {
   "cell_type": "markdown",
   "id": "750d2bd7",
   "metadata": {},
   "source": [
    "### Problem 1b\n",
    "\n",
    "Find $A^{-1}$ in the case that $v_2 \\neq 0$.\n",
    "\n",
    "$$\n",
    "\\begin{equation}\n",
    "A = \\left[ \\begin{array}{rrrr}  \n",
    "1 & v_1 & 0 & 0 \\\\  \n",
    "0 & v_2 & 0 & 0 \\\\ \n",
    "0 & v_3 & 1 & 0 \\\\ \n",
    "0 & v_4 & 0 & 1\n",
    "\\end{array} \\right] \n",
    "\\end{equation}\n",
    "$$\n"
   ]
  },
  {
   "cell_type": "markdown",
   "id": "90149df9",
   "metadata": {},
   "source": [
    "<h3><font color=blue> Answer 1b </font> </h3>\n",
    "\n",
    "Starting with the identity $I$, perform the row operations same row operations as are needed to bring $A$ to $I$.\n",
    "\n",
    "$$\n",
    "\\begin{equation}\n",
    "A^{-1} = \\left[ \\begin{array}{rrrr}  \n",
    "1 & -\\frac{v_1}{v_2} & 0 & 0 \\\\  \n",
    "0 & \\frac{1}{v_2} & 0 & 0 \\\\ \n",
    "0 & -\\frac{v_3}{v_2} & 1 & 0 \\\\\n",
    "0 & -\\frac{v_4}{v_2} & 0 & 1 \\\\\n",
    "\\end{array} \\right] \n",
    "\\end{equation}\n",
    "$$\n"
   ]
  },
  {
   "cell_type": "markdown",
   "id": "a4180a9e",
   "metadata": {},
   "source": [
    "### Problem 1c\n",
    "\n",
    "Demonstrate that your formulas work when $v_1 = -1$, $v_2 = 2$, $v_3=8$, and $v_4=-3$.\n",
    "\n",
    "(*Use a code cell to build the matrices and show that $LU=A$ and that $AA^{-1} = I$.*)\n",
    "\n",
    "\n",
    "<h3><font color=blue> Answer 1c </font> </h3>"
   ]
  },
  {
   "cell_type": "code",
   "execution_count": 4,
   "id": "cfc6e3dd",
   "metadata": {},
   "outputs": [
    {
     "name": "stdout",
     "output_type": "stream",
     "text": [
      "[[ 1 -1  0  0]\n",
      " [ 0  2  0  0]\n",
      " [ 0  8  1  0]\n",
      " [ 0 -3  0  1]]\n",
      "[[ 1.   0.5  0.   0. ]\n",
      " [ 0.   0.5  0.   0. ]\n",
      " [ 0.  -4.   1.   0. ]\n",
      " [ 0.   1.5  0.   1. ]]\n",
      "[[1. 0. 0. 0.]\n",
      " [0. 1. 0. 0.]\n",
      " [0. 0. 1. 0.]\n",
      " [0. 0. 0. 1.]]\n",
      "[[ 1.   0.   0.   0. ]\n",
      " [ 0.   1.   0.   0. ]\n",
      " [ 0.   4.   1.   0. ]\n",
      " [ 0.  -1.5  0.   1. ]]\n",
      "[[ 1 -1  0  0]\n",
      " [ 0  2  0  0]\n",
      " [ 0  0  1  0]\n",
      " [ 0  0  0  1]]\n",
      "[[ 1. -1.  0.  0.]\n",
      " [ 0.  2.  0.  0.]\n",
      " [ 0.  8.  1.  0.]\n",
      " [ 0. -3.  0.  1.]]\n"
     ]
    }
   ],
   "source": [
    "## CODE HERE\n",
    "## Build L, U, A, and Ainverse.  Print L@U and A@Ainverse.\n",
    "\n",
    "v1,v2,v3,v4 = -1,2,8,-3\n",
    "\n",
    "A = np.array([[1,v1,0,0],[0,v2,0,0],[0,v3,1,0],[0,v4,0,1]])\n",
    "print(A)\n",
    "Ainverse = np.array([[1,-v1/v2,0,0],[0,1/v2,0,0],[0,-v3/v2,1,0],[0,-v4/v2,0,1]])\n",
    "print(Ainverse)\n",
    "print(A@Ainverse)\n",
    "L = np.array([[1,0,0,0],[0,1,0,0],[0,v3/v2,1,0],[0,v4/v2,0,1]])\n",
    "U = np.array([[1,v1,0,0],[0,v2,0,0],[0,0,1,0],[0,0,0,1]])\n",
    "print(L)\n",
    "print(U)\n",
    "print(L@U)"
   ]
  },
  {
   "cell_type": "markdown",
   "id": "fe5fdc08",
   "metadata": {},
   "source": [
    "<br><br><br>\n",
    "\n",
    "### Problem 2a\n",
    "\n",
    "Explain why $\\det{A^{-1}} = (\\det{A})^{-1}$ using only the definition of determinant or the other properties given by Theorems 2.2 and 2.3."
   ]
  },
  {
   "cell_type": "markdown",
   "id": "50405964",
   "metadata": {},
   "source": [
    "<h3><font color=blue> Answer 2a </font> </h3>\n",
    "\n",
    "We know that $AA^{-1} = I$ and we know that $\\det{(AA^{-1})} = (\\det{A})(\\det{A^{-1}})$ by **Theorem 2.3.3** and we know that $\\det{I} =1$ as part of the definition of determinant.  Putting those facts together we have $(\\det{A})(\\det{A^{-1}}) = 1$, which means $\\det{A^{-1}}=1/(\\det{A}) = (\\det{A})^{-1}$"
   ]
  },
  {
   "cell_type": "markdown",
   "id": "662e9a42",
   "metadata": {},
   "source": [
    "<br><br><br>\n",
    "\n",
    "### Problem 2b\n",
    "\n",
    "Use your result from Problem 2a and other properties of the determinant to compute $\\det{B^{-1}}$.  Do not use a formula for the determinant.\n",
    "\n",
    "$$\n",
    "\\begin{equation}\n",
    "B = \\left[ \\begin{array}{rrrr}  \n",
    "3 & 2 & 2 & 8 \\\\  \n",
    "0 & 6 & -2 & 5 \\\\ \n",
    "0 & 0 & -1 & 0 \\\\ \n",
    "0 & 0 & 0 & 3\n",
    "\\end{array} \\right] \n",
    "\\end{equation}\n",
    "$$\n"
   ]
  },
  {
   "cell_type": "markdown",
   "id": "7637c75f",
   "metadata": {},
   "source": [
    "<h3><font color=blue> Answer 2b </font> </h3>\n",
    "\n",
    "By **Theorem 2.3.1** $\\det{B} = (3)(6)(-1)(3) = -54$.  By **Problem 2a** we have $\\det{B^{-1}} = \\frac{-1}{54}$."
   ]
  },
  {
   "cell_type": "markdown",
   "id": "cf2c8b67",
   "metadata": {},
   "source": [
    "<br><br><br>\n",
    "\n",
    "### Problem 3\n",
    "Find permutation matrices that fit the following descriptions.  **Show calculations with Python code to verify that your examples work.**\n",
    "\n",
    "<br><br>\n",
    "\n",
    "Find a $3\\times 3$ permutation matrix $P_3$ such that $P_3^3 = I$ but $P_3^k\\neq I$ for $k<3$.  \n",
    "\n",
    "<h3><font color=blue> Answer 3a </font> </h3>"
   ]
  },
  {
   "cell_type": "code",
   "execution_count": 5,
   "id": "4333d3de",
   "metadata": {},
   "outputs": [
    {
     "name": "stdout",
     "output_type": "stream",
     "text": [
      "[[0 1 0]\n",
      " [0 0 1]\n",
      " [1 0 0]]\n",
      "\n",
      "[[0 0 1]\n",
      " [1 0 0]\n",
      " [0 1 0]]\n",
      "\n",
      "[[1 0 0]\n",
      " [0 1 0]\n",
      " [0 0 1]]\n"
     ]
    }
   ],
   "source": [
    "## CODE HERE\n",
    "## Print P, P@P, and P@P@P\n",
    "P3 = np.array([[0,1,0],[0,0,1],[1,0,0]])\n",
    "print(P3)\n",
    "print('')\n",
    "print(P3@P3)\n",
    "print('')\n",
    "print(P3@P3@P3)"
   ]
  },
  {
   "cell_type": "markdown",
   "id": "da7268e0",
   "metadata": {},
   "source": [
    "Find a $5\\times 5$ permutation matrix $P_5$ such that $P_5^5 = I$ but $P_5^k\\neq I$ for $k<5$.  \n",
    "\n",
    "<h3><font color=blue> Answer 3b </font> </h3>"
   ]
  },
  {
   "cell_type": "code",
   "execution_count": 6,
   "id": "5946954d",
   "metadata": {},
   "outputs": [
    {
     "name": "stdout",
     "output_type": "stream",
     "text": [
      "[[0 1 0 0 0]\n",
      " [0 0 0 0 1]\n",
      " [0 0 0 1 0]\n",
      " [1 0 0 0 0]\n",
      " [0 0 1 0 0]]\n",
      "\n",
      "[[0 0 0 0 1]\n",
      " [0 0 1 0 0]\n",
      " [1 0 0 0 0]\n",
      " [0 1 0 0 0]\n",
      " [0 0 0 1 0]]\n",
      "\n",
      "[[0 0 1 0 0]\n",
      " [0 0 0 1 0]\n",
      " [0 1 0 0 0]\n",
      " [0 0 0 0 1]\n",
      " [1 0 0 0 0]]\n",
      "\n",
      "[[0 0 0 1 0]\n",
      " [1 0 0 0 0]\n",
      " [0 0 0 0 1]\n",
      " [0 0 1 0 0]\n",
      " [0 1 0 0 0]]\n",
      "\n",
      "[[1 0 0 0 0]\n",
      " [0 1 0 0 0]\n",
      " [0 0 1 0 0]\n",
      " [0 0 0 1 0]\n",
      " [0 0 0 0 1]]\n"
     ]
    }
   ],
   "source": [
    "## CODE HERE\n",
    "## Print P, P@P, P@P@P, P@P@P@P, and P@P@P@P@P\n",
    "\n",
    "P5 = np.array([[0,1,0,0,0],[0,0,0,0,1],[0,0,0,1,0],[1,0,0,0,0],[0,0,1,0,0]])\n",
    "\n",
    "print(P5)\n",
    "print('')\n",
    "print(P5@P5)\n",
    "print('')\n",
    "print(P5@P5@P5)\n",
    "print('')\n",
    "print(P5@P5@P5@P5)\n",
    "print('')\n",
    "print(P5@P5@P5@P5@P5)\n"
   ]
  },
  {
   "cell_type": "markdown",
   "id": "be1e0b76",
   "metadata": {},
   "source": [
    "<br><br><br>\n",
    "\n",
    "### Problem 4a\n",
    "\n",
    "Suppose that $n>2$ and $C$ is an $n\\times n$ matrix with $[C]_{ij} = i+j$.  Explain why $\\det{C} = 0$.  You may do some calculations to see that it is true for a specific value of $n$, but your explanation should not depend on a specific value of $n$."
   ]
  },
  {
   "cell_type": "code",
   "execution_count": 12,
   "id": "6fb618b6",
   "metadata": {},
   "outputs": [
    {
     "name": "stdout",
     "output_type": "stream",
     "text": [
      "[[0. 1. 2. 3. 4.]\n",
      " [1. 2. 3. 4. 5.]\n",
      " [2. 3. 4. 5. 6.]\n",
      " [3. 4. 5. 6. 7.]\n",
      " [4. 5. 6. 7. 8.]]\n",
      "\n",
      "[[0. 1. 2. 3. 4.]\n",
      " [1. 1. 1. 1. 1.]\n",
      " [1. 1. 1. 1. 1.]\n",
      " [3. 4. 5. 6. 7.]\n",
      " [4. 5. 6. 7. 8.]]\n"
     ]
    }
   ],
   "source": [
    "## The following lines of code create the matrix C.\n",
    "## Hint: Row operations do not change the value of the determinant.\n",
    "\n",
    "n = 5\n",
    "C = np.zeros((n,n))\n",
    "for i in range(n):\n",
    "    for j in range(n):\n",
    "        C[i,j] = i + j\n",
    "        \n",
    "print(C)\n",
    "print('')\n",
    "\n",
    "B = lag.RowAdd(C,1,2,-1)\n",
    "B = lag.RowAdd(B,0,1,-1)\n",
    "print(B)"
   ]
  },
  {
   "cell_type": "markdown",
   "id": "f9bd56d3",
   "metadata": {},
   "source": [
    "<h3><font color=blue> Answer 4a </font> </h3>\n",
    "\n",
    "Since the entries $C_{(i+1)j}$ are one more than the entries $C_{ij}$, subtracting a row from the row below it will produce a row of ones.  This can be done with any two rows to create two rows of ones as demonstrated with the calculation above.  These row operations produce a new matrix $B$ with the same determinant as $C$.  The determinant of $B$ (and thus $C$) is zero because the determinant of a matrix with two identical rows is 0 by Theorem 2.2.\n"
   ]
  },
  {
   "cell_type": "markdown",
   "id": "bd939ae2",
   "metadata": {},
   "source": [
    "<br><br><br>\n",
    "\n",
    "### Problem 5a\n",
    "\n",
    "Let $T_n$ be the $n\\times n$ **tridiagonal** matrix with 1s along the three central diagonals.  $T_4$ \n",
    "is shown here as an example\n",
    "\n",
    "$$\n",
    "\\begin{equation}\n",
    "T_4 = \\left[ \\begin{array}{rrrr}  \n",
    "1 & 1 & 0 & 0 \\\\  \n",
    "1 & 1 & 1 & 0 \\\\ \n",
    "0 & 1 & 1 & 1 \\\\ \n",
    "0 & 0 & 1 & 1 \n",
    "\\end{array} \\right] \n",
    "\\end{equation}\n",
    "$$\n",
    "\n",
    "Use the cofactor expansion to show that $\\det T_n = \\det T_{n-1}- \\det T_{n-2}$."
   ]
  },
  {
   "cell_type": "markdown",
   "id": "9fcd7e9f",
   "metadata": {},
   "source": [
    "<h3><font color=blue> Answer 5a </font> </h3>\n",
    "\n",
    "\n",
    "$$\n",
    "\\begin{equation}\n",
    "T_n = \\left[ \\begin{array}{rrrrrr}  \n",
    "    1 & 1 & 0 & \\dots & \\dots & 0 \\\\\n",
    "    1 & 1 & 1 & \\ddots & \\dots & 0 \\\\\n",
    "    0 & 1 & 1 & 1 & \\ddots & \\vdots \\\\\n",
    "    \\vdots & \\ddots & \\ddots & \\ddots & \\ddots & 0 \\\\\n",
    "    \\vdots & \\vdots & \\ddots & 1 & 1 & 1\\\\\n",
    "    0 & 0 & \\dots & 0 & 1 & 1\n",
    "\\end{array} \\right] \n",
    "\\end{equation}\n",
    "$$\n",
    "\n",
    "Write the cofactor expansion for $\\det{T_n}$ using the first row.\n",
    "\n",
    "\\begin{equation}\n",
    "\\det{T_n} = t_{11}T_{11} + t_{12}T{12} + \\dots\n",
    "\\end{equation}\n",
    "\n",
    "Only these first two terms are nonzero since $t_{1j}=0$ for $j>2$.  Further $t_{11} = t_{12} = 1$, so we have\n",
    "\n",
    "\\begin{equation}\n",
    "\\det{T_n} = \\det{M_{11}} - \\det{M_{12}}\n",
    "\\end{equation}\n",
    "\n",
    "where $M_{11}$ and $M_{12}$ are the minors associated with those entries.  Notice that if we remove the first row and first column from $T_n$ we get $T_{n-1}$, so $M_{11}=T_{n-1}$.\n",
    "\n",
    "If we eliminate the first row and second column of $T_n$ we get the minor $M_{12}$, which is almost exactly $T_{n-1}$ except that it has a zero in the second row, first column.\n",
    "\n",
    "$$\n",
    "\\begin{equation}\n",
    "M_{12} = \\left[ \\begin{array}{rrrrrr}  \n",
    "    1 & 1 & 0 & \\dots & \\dots & 0 \\\\\n",
    "    0 & 1 & 1 & \\ddots & \\dots & 0 \\\\\n",
    "    0 & 1 & 1 & 1 & \\ddots & \\vdots \\\\\n",
    "    \\vdots & \\ddots & \\ddots & \\ddots & \\ddots & 0 \\\\\n",
    "    \\vdots & \\vdots & \\ddots & 1 & 1 & 1\\\\\n",
    "    0 & 0 & \\dots & 0 & 1 & 1\n",
    "\\end{array} \\right] \n",
    "\\end{equation}\n",
    "$$\n",
    "\n",
    "We can now expand $\\det{M_{12}}$ down the first column and use the fact that the minor associated with the entry in its first row, first column is exactly $T_{n-2}$.\n",
    "\n",
    "\\begin{equation}\n",
    "\\det{M_{12}} = \\det{T_{n-2}}\n",
    "\\end{equation}\n",
    "\n",
    "Substituting this back into the first expansion gives $\\det T_n = \\det T_{n-1}- \\det T_{n-2}$."
   ]
  },
  {
   "cell_type": "markdown",
   "id": "f4d23e20",
   "metadata": {},
   "source": [
    "\n",
    "### Problem 5b\n",
    "\n",
    "Use the result of part a to calculate $\\det T_{1000}$.\n"
   ]
  },
  {
   "cell_type": "markdown",
   "id": "bf918e3f",
   "metadata": {},
   "source": [
    "<h3><font color=blue> Answer 5b </font> </h3>\n",
    "\n",
    "Work out the first two determinants with the cofactor expansion to find that $\\det{T_2} = 0$ and $\\det{T_3}=-1$.  Now use the formula to work out the first few determinants and look for a pattern.\n",
    "\n",
    "\\begin{eqnarray}\n",
    "\\det{T_4} & = & -1 \\\\\n",
    "\\det{T_5} & = & 0 \\\\\n",
    "\\det{T_6} & = & 1 \\\\\n",
    "\\det{T_7} & = & 1 \\\\\n",
    "\\det{T_8} & = & 0 \\\\\n",
    "\\det{T_9} & = & -1 \\\\\n",
    "\\det{T_{10}} & = & -1 \\\\\n",
    "\\end{eqnarray}\n",
    "\n",
    "We see the values cycle through $1, 0, -1, -1, 0, 1, ...$.  Since $1000$ divided by $6$ leaves a remainder of $4$, $T_{1000} = -1$, the fourth number in this repeating set.\n",
    "\n",
    "*Note the formula $\\det T_n = \\det T_{n-1}- \\det T_{n-2}$ is called a recurrence relation and there are mathematical techniques for solving this relation and finding $T_n$ directly in terms of $n$.*"
   ]
  }
 ],
 "metadata": {
  "kernelspec": {
   "display_name": "Python 3",
   "language": "python",
   "name": "python3"
  },
  "language_info": {
   "codemirror_mode": {
    "name": "ipython",
    "version": 3
   },
   "file_extension": ".py",
   "mimetype": "text/x-python",
   "name": "python",
   "nbconvert_exporter": "python",
   "pygments_lexer": "ipython3",
   "version": "3.7.3"
  }
 },
 "nbformat": 4,
 "nbformat_minor": 5
}
