{
 "cells": [
  {
   "cell_type": "markdown",
   "id": "5eb54316",
   "metadata": {},
   "source": [
    "# MATH 221: Assignment 1\n",
    "<h3><font color= red>  Due Jan. 19 </font></h3>\n",
    "<h3> Up to three students may submit the same notebook.  Enter the names of all students who contributed to the assignment on the next line.</h3>\n",
    "<br><br>"
   ]
  },
  {
   "cell_type": "markdown",
   "id": "6d81fb37",
   "metadata": {},
   "source": [
    "## Names:\n",
    "\n",
    "<br>"
   ]
  },
  {
   "cell_type": "code",
   "execution_count": 1,
   "id": "dd1883e9",
   "metadata": {},
   "outputs": [],
   "source": [
    "## IMPORTANT!!  Execute this import cell each time before you begin working.\n",
    "## Before you begin, transfer the laguide.py file from Blackboard to the JupyterHub.\n",
    "\n",
    "import numpy as np\n",
    "import laguide as lag"
   ]
  },
  {
   "cell_type": "markdown",
   "id": "0cbbe0cb",
   "metadata": {},
   "source": [
    "<br><br><br>\n",
    "\n",
    "### Problem 1a\n",
    "\n",
    "Under what condition(s) do the three points $(0,y_1)$, $(1,y_2)$, and $(2,y_3)$ lie on a line $y=mx+b$ for some $m$ and $b$?"
   ]
  },
  {
   "cell_type": "markdown",
   "id": "1601999f",
   "metadata": {},
   "source": [
    "<h3><font color=blue> Answer 1a </font> </h3>\n",
    "\n",
    "(*Type your answer here.*)"
   ]
  },
  {
   "cell_type": "markdown",
   "id": "750d2bd7",
   "metadata": {},
   "source": [
    "### Problem 1b\n",
    "\n",
    "Explain the condition by creating the appropriate linear system and doing the steps of elimination to change the augmented matrix in to a **row-echlon form**.  Do the calcuation by hand and type in the result.  (*Replace the stars with numbers or symbols.*)"
   ]
  },
  {
   "cell_type": "markdown",
   "id": "90149df9",
   "metadata": {},
   "source": [
    "<h3><font color=blue> Answer 1b </font> </h3>\n",
    "\n",
    "Augmented matrix for the linear system:\n",
    "$$\n",
    "\\begin{equation}\n",
    "\\left[ \\begin{array}{rrr}  * & * & *\\\\  * & * & *  \\\\ * & * & * \\end{array} \\right] \n",
    "\\end{equation}\n",
    "$$\n",
    "\n",
    "Row-echelon form of augmented matrix:\n",
    "\n",
    "$$\n",
    "\\begin{equation}\n",
    "\\left[ \\begin{array}{rrr}  * & * & *\\\\  * & * & *  \\\\ * & * & * \\end{array} \\right] \n",
    "\\end{equation}\n",
    "$$\n"
   ]
  },
  {
   "cell_type": "markdown",
   "id": "a4180a9e",
   "metadata": {},
   "source": [
    "### Problem 1c\n",
    "\n",
    "Let $y_1 = 3.5$, $y_2 = 5.6$, and $y_3 = 7.7$ and calculate $m$ and $b$.\n",
    "\n",
    "(*Use a code cell to build the appropriate augmented matrix and carry out the row reduction.*)\n",
    "\n",
    "<h3><font color=blue> Answer 1c </font> </h3>"
   ]
  },
  {
   "cell_type": "code",
   "execution_count": 14,
   "id": "cfc6e3dd",
   "metadata": {},
   "outputs": [],
   "source": [
    "## CODE HERE\n",
    "\n"
   ]
  },
  {
   "cell_type": "markdown",
   "id": "1a9d2399",
   "metadata": {},
   "source": [
    "$m = $\n",
    "\n",
    "$b = $"
   ]
  },
  {
   "cell_type": "markdown",
   "id": "fe5fdc08",
   "metadata": {},
   "source": [
    "<br><br><br>\n",
    "\n",
    "### Problem 2\n",
    "\n",
    " Find all vectors $x$ that satisfy the matrix equation $Ax = 0$ where\n",
    "\n",
    "$$\n",
    "\\begin{equation}\n",
    "A = \\left[ \\begin{array}{rrr}  3 & -6 & 0\\\\  0 & 2 & -2  \\\\ 1 & -1 & -1 \\end{array} \\right] \n",
    "\\end{equation}\n",
    "$$\n",
    "\n",
    "(*Create the appropriate augmented matrix and use a code cell to do the steps of elimination.*)"
   ]
  },
  {
   "cell_type": "code",
   "execution_count": 7,
   "id": "e3ea4b3c",
   "metadata": {},
   "outputs": [
    {
     "name": "stdout",
     "output_type": "stream",
     "text": [
      "[[ 3 -6  0  0]\n",
      " [ 0  2 -2  0]\n",
      " [ 1 -1 -1  0]]\n",
      "[[ 3. -6.  0.  0.]\n",
      " [ 0.  2. -2.  0.]\n",
      " [ 0.  1. -1.  0.]]\n",
      "Pivot could not be found in column 2 .\n",
      "[[ 1. -2.  0.  0.]\n",
      " [ 0.  1. -1.  0.]\n",
      " [ 0.  0.  0.  0.]]\n"
     ]
    }
   ],
   "source": [
    "## CODE HERE\n",
    "\n",
    "A = np.array([[3, -6, 0, 0],[0, 2, -2, 0],[1, -1, -1, 0]])\n",
    "print(A)\n",
    "A = lag.RowAdd(A,0,2,-1/3)\n",
    "print(A)\n",
    "A = lag.RowReduction(A)\n",
    "print(A)"
   ]
  },
  {
   "cell_type": "markdown",
   "id": "7637c75f",
   "metadata": {},
   "source": [
    "<h3><font color=blue> Answer 2 </font> </h3>\n",
    "\n",
    "\n",
    "(*Type your answer here.*)"
   ]
  },
  {
   "cell_type": "markdown",
   "id": "cf2c8b67",
   "metadata": {},
   "source": [
    "<br><br><br>\n",
    "\n",
    "### Problem 3\n",
    "In this problem, you will find examples that demonstrate some of the ways in which algebra with matrices differs from algebra with real numbers.\n",
    "\n",
    "Find 2$\\times$2 matrices that fit the following descriptions.  Show calculations with Python code to verify that your examples work.\n",
    "\n",
    "<br><br>\n",
    "\n",
    "Find a matrix $B$ such that $B^2 = -I$, although the entries in $B$ are all real numbers.\n",
    "\n",
    "<h3><font color=blue> Answer 3a </font> </h3>"
   ]
  },
  {
   "cell_type": "code",
   "execution_count": null,
   "id": "4333d3de",
   "metadata": {},
   "outputs": [],
   "source": [
    "## CODE HERE\n"
   ]
  },
  {
   "cell_type": "markdown",
   "id": "da7268e0",
   "metadata": {},
   "source": [
    "Find matrices $C$, $D$, and $E$ such that $CD=CE$, although $C\\neq 0$ and $D\\neq E$.\n",
    "\n",
    "<h3><font color=blue> Answer 3b </font> </h3>"
   ]
  },
  {
   "cell_type": "code",
   "execution_count": null,
   "id": "5946954d",
   "metadata": {},
   "outputs": [],
   "source": [
    "## CODE HERE\n",
    "\n"
   ]
  },
  {
   "cell_type": "markdown",
   "id": "3fcef47d",
   "metadata": {},
   "source": [
    "Find matrices matrices $F$ and $G$ such that $FG = 0$, although none of the entries in $F$ or $G$ are zero.\n",
    "\n",
    "<h3><font color=blue> Answer 3c </font> </h3>"
   ]
  },
  {
   "cell_type": "code",
   "execution_count": null,
   "id": "d3abae64",
   "metadata": {},
   "outputs": [],
   "source": [
    "## CODE HERE\n",
    "\n"
   ]
  },
  {
   "cell_type": "markdown",
   "id": "be1e0b76",
   "metadata": {},
   "source": [
    "<br><br><br>\n",
    "\n",
    "### Problem 4a\n",
    "\n",
    "Suppose that $S$ is a square matrix.  Explain why the matrix $P=S+S^T$ must be symmetric and the matrix $Q=S-S^T$ must be skew-symmetric."
   ]
  },
  {
   "cell_type": "markdown",
   "id": "f9bd56d3",
   "metadata": {},
   "source": [
    "<h3><font color=blue> Answer 4a </font> </h3>\n",
    "\n",
    "(*Type your answer here*.)\n"
   ]
  },
  {
   "cell_type": "markdown",
   "id": "f828d791",
   "metadata": {},
   "source": [
    "### Problem 4b\n",
    "\n",
    "Compute $P$ and $Q$ when:\n",
    "\n",
    "$$\n",
    "\\begin{equation}\n",
    "S = \\left[ \\begin{array}{rrr}  2 & -3 & 6\\\\  1 & 0 & -1  \\\\ 6 & 2 & 2 \\end{array} \\right] \n",
    "\\end{equation}\n",
    "$$"
   ]
  },
  {
   "cell_type": "markdown",
   "id": "d2310d39",
   "metadata": {},
   "source": [
    "<h3><font color=blue> Answer 4b </font> </h3>\n",
    "\n",
    "$$\n",
    "\\begin{equation}\n",
    "P = \\left[ \\begin{array}{rrr}  * & * & *\\\\  * & * & *  \\\\ * & * & * \\end{array} \\right] \n",
    "\\end{equation}\n",
    "$$\n",
    "\n",
    "$$\n",
    "\\begin{equation}\n",
    "Q = \\left[ \\begin{array}{rrr}  * & * & *\\\\  * & * & *  \\\\ * & * & * \\end{array} \\right] \n",
    "\\end{equation}\n",
    "$$"
   ]
  },
  {
   "cell_type": "markdown",
   "id": "bd939ae2",
   "metadata": {},
   "source": [
    "<br><br><br>\n",
    "\n",
    "### Problem 5\n",
    "\n",
    "If the inverse of $A^2$ is the matrix $B$, show that the inverse of $A$ is the matrix $AB$."
   ]
  },
  {
   "cell_type": "markdown",
   "id": "50405964",
   "metadata": {},
   "source": [
    "<h3><font color=blue> Answer 5 </font> </h3>\n",
    "\n",
    "Know $A^2B = I$\n",
    "\n",
    "and $BA^2 = I$.\n",
    "\n",
    "Want $ A(AB) = I$\n",
    "\n",
    "and $(AB)A = I$\n",
    "\n",
    "(*Type your answer here.*)"
   ]
  },
  {
   "cell_type": "code",
   "execution_count": null,
   "id": "a07c3805",
   "metadata": {},
   "outputs": [],
   "source": []
  }
 ],
 "metadata": {
  "kernelspec": {
   "display_name": "Python 3",
   "language": "python",
   "name": "python3"
  },
  "language_info": {
   "codemirror_mode": {
    "name": "ipython",
    "version": 3
   },
   "file_extension": ".py",
   "mimetype": "text/x-python",
   "name": "python",
   "nbconvert_exporter": "python",
   "pygments_lexer": "ipython3",
   "version": "3.7.3"
  }
 },
 "nbformat": 4,
 "nbformat_minor": 5
}
