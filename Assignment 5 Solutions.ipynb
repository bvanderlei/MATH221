{
 "cells": [
  {
   "cell_type": "markdown",
   "id": "5eb54316",
   "metadata": {},
   "source": [
    "# MATH 221: Assignment 5\n",
    "<h3><font color= red>  Due Apr. 14  </font></h3>\n",
    "<h4> Up to three students may submit the same notebook.  Enter the names of all students who contributed to the assignment in the next cell.</h4>\n",
    "<h4> Please also include your names in the name of the notebook file you submit to Blackboard.</h4>\n",
    "<br><br>"
   ]
  },
  {
   "cell_type": "markdown",
   "id": "6d81fb37",
   "metadata": {},
   "source": [
    "## Names:\n",
    "\n",
    "<br>"
   ]
  },
  {
   "cell_type": "code",
   "execution_count": 2,
   "id": "dd1883e9",
   "metadata": {},
   "outputs": [],
   "source": [
    "## IMPORTANT!!  Execute this import cell each time before you begin working.\n",
    "## Before you begin, transfer the laguide.py file from Blackboard to the JupyterHub.\n",
    "\n",
    "import numpy as np\n",
    "import laguide as lag\n"
   ]
  },
  {
   "cell_type": "markdown",
   "id": "0cbbe0cb",
   "metadata": {},
   "source": [
    "<br><br><br>\n",
    "\n",
    "### Power method estimates for eigenvalues\n",
    "\n",
    "\n",
    "In the first problem, you will use the Power Method to esimate the eigenvector associated with largest eigenvalue of the matrix $A$.\n",
    "\n",
    "$$\n",
    "\\begin{equation}\n",
    "A = \\left[ \\begin{array}{rrrrr}\n",
    "2 & -1 & -1 & 1 \\\\  \n",
    "-1 & 4 & -3 & 2 \\\\\n",
    "-1 & -3 & 0 & 2 \\\\\n",
    "1 & 2 & 2  & 6\n",
    "\\end{array} \\right] \n",
    "\\end{equation}\n",
    "$$\n",
    "\n"
   ]
  },
  {
   "cell_type": "code",
   "execution_count": 3,
   "id": "98bb67bd",
   "metadata": {},
   "outputs": [],
   "source": [
    "A = np.array([[2,-1,-1,1],[-1,4,-3,2],[-1,-3,0,2],[1,2,2,6]])\n"
   ]
  },
  {
   "cell_type": "markdown",
   "id": "3e9013f0",
   "metadata": {},
   "source": [
    "The idea is to build a sequence of vectors $\\{x_0$, $x_1$, $x_2$, ...\\} by multiplying by $A$ and scaling to unit length.  We'll choose a vector at random to start the sequence."
   ]
  },
  {
   "cell_type": "code",
   "execution_count": 4,
   "id": "4ebfd667",
   "metadata": {},
   "outputs": [
    {
     "name": "stdout",
     "output_type": "stream",
     "text": [
      "[[1]\n",
      " [1]\n",
      " [1]\n",
      " [1]]\n"
     ]
    }
   ],
   "source": [
    "## Choose something here for the intial x_0\n",
    "\n",
    "x = np.array([[1],[1],[1],[1]])\n",
    "print(x)"
   ]
  },
  {
   "cell_type": "markdown",
   "id": "7117d1fd",
   "metadata": {},
   "source": [
    "Starting with $x_0$, we multiply by $A$ and scale the result to unit length to find $x_1$."
   ]
  },
  {
   "cell_type": "code",
   "execution_count": 5,
   "id": "3ad63aa7",
   "metadata": {},
   "outputs": [
    {
     "name": "stdout",
     "output_type": "stream",
     "text": [
      "[[ 0.0877058 ]\n",
      " [ 0.1754116 ]\n",
      " [-0.1754116 ]\n",
      " [ 0.96476382]]\n"
     ]
    }
   ],
   "source": [
    "x = A@x\n",
    "x = x/(lag.Magnitude(x))\n",
    "print(x)"
   ]
  },
  {
   "cell_type": "markdown",
   "id": "d77316a6",
   "metadata": {},
   "source": [
    "Repeat to find $x_2$ from $x_1$."
   ]
  },
  {
   "cell_type": "code",
   "execution_count": 6,
   "id": "26c347c8",
   "metadata": {},
   "outputs": [
    {
     "name": "stdout",
     "output_type": "stream",
     "text": [
      "[[0.1663389 ]\n",
      " [0.44783551]\n",
      " [0.19192951]\n",
      " [0.85728513]]\n"
     ]
    }
   ],
   "source": [
    "x = A@x\n",
    "x = x/(lag.Magnitude(x))\n",
    "print(x)"
   ]
  },
  {
   "cell_type": "markdown",
   "id": "b7c072f9",
   "metadata": {},
   "source": [
    "Instead of reapeating the code, we tuck these two commands inside of a loop that runs $k$ times.  We could print out each $x_k$ but that might be too much output if $k$ is large.  Instead, maybe we just print the final result.\n"
   ]
  },
  {
   "cell_type": "code",
   "execution_count": 7,
   "id": "4765f638",
   "metadata": {},
   "outputs": [],
   "source": [
    "## Choose a starting x_0\n",
    "x = np.array([[1],[1],[1],[1]])\n",
    "## Choose the number of steps to take in the sequence\n",
    "k = 4\n",
    "for i in range(k):\n",
    "    x = A@x\n",
    "    x = x/lag.Magnitude(x)\n"
   ]
  },
  {
   "cell_type": "markdown",
   "id": "ba533ebc",
   "metadata": {},
   "source": [
    "### Problem 1a:\n",
    "\n",
    "Experiment to determine how large $k$ must be so that $x_k$ and $x_{k+1}$ are approximately the same.  Specifically, find a $k$ so that $||x_{k+1}-x_k||< 10^{-8}$.  Demonstrate with a computation.\n",
    "\n"
   ]
  },
  {
   "cell_type": "markdown",
   "id": "90149df9",
   "metadata": {},
   "source": [
    "<h3><font color=blue> Answer 1a </font> </h3>\n",
    "\n"
   ]
  },
  {
   "cell_type": "code",
   "execution_count": 8,
   "id": "60bf4a73",
   "metadata": {},
   "outputs": [
    {
     "name": "stdout",
     "output_type": "stream",
     "text": [
      "9.727784506066492e-09\n"
     ]
    }
   ],
   "source": [
    "## Choose a starting x_0\n",
    "x = np.array([[1],[1],[1],[1]])\n",
    "## Choose the number of steps to take in the sequence\n",
    "k = 51\n",
    "\n",
    "for i in range(k):\n",
    "    x = A@x\n",
    "    x = x/lag.Magnitude(x)\n",
    "\n",
    "    \n",
    "## Calculate one addional vector x_{k+1} and compare it with x_{k}    \n",
    "x_new = A@x\n",
    "x_new = x_new/lag.Magnitude(x_new)\n",
    "print(lag.Magnitude(x-x_new))"
   ]
  },
  {
   "cell_type": "markdown",
   "id": "827391b5",
   "metadata": {},
   "source": [
    "$k$ needs to be at larger than 50 in this case."
   ]
  },
  {
   "cell_type": "markdown",
   "id": "76d9c532",
   "metadata": {},
   "source": [
    "<br><br>\n",
    "\n",
    "### Problem 1b:\n",
    "\n",
    "The vector from the previous computation must be an approximate eigenvector of $A$.  Use the eigenvector to estimate the associated eigenvalue of $A$.  \n",
    "\n",
    "\n",
    "<br><br><br>\n",
    "\n",
    "### Answer 1b:\n",
    "\n",
    "If $x$ is an eigenvector (so $Ax=\\lambda x$) and $||x||=1$, then \n",
    "\n",
    "$$\n",
    "\\begin{equation}\n",
    "||Ax|| = ||\\lambda x|| = \\lambda||x|| = \\lambda\n",
    "\\end{equation}\n",
    "$$"
   ]
  },
  {
   "cell_type": "code",
   "execution_count": 9,
   "id": "cfc6e3dd",
   "metadata": {},
   "outputs": [
    {
     "name": "stdout",
     "output_type": "stream",
     "text": [
      "7.261802245259969\n"
     ]
    }
   ],
   "source": [
    "## CODE HERE\n",
    "print(lag.Magnitude(A@x))"
   ]
  },
  {
   "cell_type": "markdown",
   "id": "fe5fdc08",
   "metadata": {},
   "source": [
    "<br><br><br>\n",
    "\n",
    "### Problem 1c\n",
    "\n",
    "Now if $A$ is invertible and $\\lambda$ is an eigenvalue so that $Ax=\\lambda x$, then $\\frac{1}{\\lambda}$ must be an eigenvalue of $A^{-1}$ since $x = \\lambda A^{-1}x$.  This means that the smallest eigenvalue of $A$ is the *largest* eigenvalue of $A^{-1}$.  Use this idea to estimate the smallest eigenvalue of $A$ using the Power Method.  **Verify your answer** by checking that $Ax=\\lambda x$ for your $\\lambda$ and $x$."
   ]
  },
  {
   "cell_type": "markdown",
   "id": "50405964",
   "metadata": {},
   "source": [
    "<h3><font color=blue> Answer 1c </font> </h3>\n",
    "\n"
   ]
  },
  {
   "cell_type": "code",
   "execution_count": 10,
   "id": "e98a8197",
   "metadata": {},
   "outputs": [
    {
     "name": "stdout",
     "output_type": "stream",
     "text": [
      "1.0704140406482906e-09 \n",
      "\n",
      "Eigenvalue of A inverse is approximately:  0.4169583867171188\n",
      "Eigenvalue of A is approximately:  2.398320868116846\n"
     ]
    }
   ],
   "source": [
    "## CODE HERE\n",
    "\n",
    "## Calculate A inverse\n",
    "A_inv = lag.Inverse(A)\n",
    "## Choose a starting x_0\n",
    "x = np.array([[1],[1],[1],[1]])\n",
    "## Choose the number of steps to take in the sequence\n",
    "k = 100\n",
    "\n",
    "for i in range(k):\n",
    "    x = A_inv@x\n",
    "    x = x/lag.Magnitude(x)\n",
    "\n",
    "## Calculate one addional vector x_{k+1} and compare it with x_{k}    \n",
    "x_new = A@x\n",
    "x_new = x_new/lag.Magnitude(x_new)\n",
    "print(lag.Magnitude(x-x_new),'\\n')\n",
    "\n",
    "print(\"Eigenvalue of A inverse is approximately: \",lag.Magnitude(A_inv@x))\n",
    "print(\"Eigenvalue of A is approximately: \",1/lag.Magnitude(A_inv@x))"
   ]
  },
  {
   "cell_type": "markdown",
   "id": "0f650c76",
   "metadata": {},
   "source": [
    "Verify that this vector is an eigenvector of $A$."
   ]
  },
  {
   "cell_type": "code",
   "execution_count": 11,
   "id": "9c602a9b",
   "metadata": {},
   "outputs": [
    {
     "name": "stdout",
     "output_type": "stream",
     "text": [
      "[[ 2.23490926]\n",
      " [-0.1123194 ]\n",
      " [-0.85902571]\n",
      " [-0.08113411]]\n",
      "[[ 2.23490927]\n",
      " [-0.1123194 ]\n",
      " [-0.85902571]\n",
      " [-0.08113411]]\n"
     ]
    }
   ],
   "source": [
    "eig_value_A = 1/lag.Magnitude(A_inv@x)\n",
    "\n",
    "## Compare Ax with lambda*x\n",
    "print(A@x)\n",
    "print(eig_value_A*x)"
   ]
  },
  {
   "cell_type": "code",
   "execution_count": 12,
   "id": "a9379c5e",
   "metadata": {},
   "outputs": [
    {
     "name": "stdout",
     "output_type": "stream",
     "text": [
      "[-3.        +0.j  2.39832087+0.j  5.33987689+0.j  7.26180225+0.j]\n"
     ]
    }
   ],
   "source": [
    "## Check our results using SciPy function for computing eigenvalues\n",
    "\n",
    "import scipy.linalg as sla\n",
    "\n",
    "evals,evects = sla.eig(A)\n",
    "print(evals)"
   ]
  },
  {
   "cell_type": "markdown",
   "id": "f7e06440",
   "metadata": {},
   "source": [
    "The smallest eigenvalue of $A$ is approximately 2.3983, and the largest eigenvalue is approximately 7.2618."
   ]
  },
  {
   "cell_type": "markdown",
   "id": "662e9a42",
   "metadata": {},
   "source": [
    "<br><br><br>\n",
    "\n",
    "### Problem 2a\n",
    "\n",
    "Suppose that a survey estimates that each year in BC 15\\% of Liberals switch to the Green Party, and 20\\% switch\n",
    "to the NDP.  The surve also estimates that 20\\% of NDP members switch to the Liberals, 15\\% of NDP members switch to the Green Party,\n",
    "10\\% of Green Party members change to the NDP, and 10\\% of Green Party members switch to the Liberals.\n",
    "\n",
    "Let $N_k$, $G_k$, and $L_k$ be the proportions of NDP, Liberal, and Green members at year $k$, and let $x$ be the vector with\n",
    "these components.  Write down the transition matrix $A$ so that $Ax_k=x_{k-1}$."
   ]
  },
  {
   "cell_type": "markdown",
   "id": "7637c75f",
   "metadata": {},
   "source": [
    "<h3><font color=blue> Answer 2a </font> </h3>\n",
    "\n",
    "\n",
    "$$\n",
    "\\begin{equation}\n",
    "A = \\left[ \\begin{array}{rrr}  \n",
    "0.65 & 0.1 & 0.2  \\\\\n",
    "0.15 & 0.8 & 0.15  \\\\\n",
    "0.2 & 0.1 & 0.65   \n",
    "\\end{array} \\right] \n",
    "\\end{equation}\n",
    "$$\n"
   ]
  },
  {
   "cell_type": "markdown",
   "id": "9dad9a25",
   "metadata": {},
   "source": [
    "<br><br><br>\n",
    "\n",
    "### Problem 2b\n",
    "\n",
    "Find the equilibrium proportion of $N_k$, $G_k$, and $L_k$ and verify that it is an equilbrium with a computation.\n",
    "\n",
    "<br>\n",
    "<br>\n",
    "\n",
    "<h3><font color=blue> Answer 2b </font> </h3>\n"
   ]
  },
  {
   "cell_type": "markdown",
   "id": "cf2c8b67",
   "metadata": {},
   "source": [
    "Solve $(A-I)v=0$"
   ]
  },
  {
   "cell_type": "code",
   "execution_count": 13,
   "id": "ced0ccf6",
   "metadata": {},
   "outputs": [
    {
     "name": "stdout",
     "output_type": "stream",
     "text": [
      "[[ 1.   0.  -1. ]\n",
      " [ 0.   1.  -1.5]\n",
      " [ 0.   0.   0. ]]\n"
     ]
    }
   ],
   "source": [
    "A = np.array([[0.65,0.1,0.2],[0.15,0.8,0.15],[0.2,0.1,0.65]])\n",
    "I = np.eye(3)\n",
    "print(lag.FullRowReduction(A-I))"
   ]
  },
  {
   "cell_type": "markdown",
   "id": "4e6b238c",
   "metadata": {},
   "source": [
    "The free variable means we have a choice.  One possible solution is:\n",
    "\n",
    "\n",
    "$$\n",
    "\\begin{equation}\n",
    "v = \\left[ \\begin{array}{r}  \n",
    "2  \\\\\n",
    "3  \\\\\n",
    "2   \n",
    "\\end{array} \\right] \n",
    "\\end{equation}\n",
    "$$\n",
    "\n",
    "Since we are looking for propotions of the population, we scale down the total of the entries.\n",
    "\n",
    "$$\n",
    "\\begin{equation}\n",
    "v = \\left[ \\begin{array}{r}  \n",
    "\\frac27  \\\\\n",
    "\\frac37  \\\\\n",
    "\\frac27   \n",
    "\\end{array} \\right] \n",
    "\\end{equation}\n",
    "$$\n",
    "\n",
    "Now we check that $Av = v$."
   ]
  },
  {
   "cell_type": "code",
   "execution_count": 14,
   "id": "09b54bc3",
   "metadata": {},
   "outputs": [
    {
     "name": "stdout",
     "output_type": "stream",
     "text": [
      "[[0.28571429]\n",
      " [0.42857143]\n",
      " [0.28571429]]\n",
      "[[0.28571429]\n",
      " [0.42857143]\n",
      " [0.28571429]]\n"
     ]
    }
   ],
   "source": [
    "v = np.array([[2/7],[3/7],[2/7]])\n",
    "print(A@v)\n",
    "print(v)"
   ]
  },
  {
   "cell_type": "code",
   "execution_count": null,
   "id": "e1bce03d",
   "metadata": {},
   "outputs": [],
   "source": []
  }
 ],
 "metadata": {
  "kernelspec": {
   "display_name": "Python 3",
   "language": "python",
   "name": "python3"
  },
  "language_info": {
   "codemirror_mode": {
    "name": "ipython",
    "version": 3
   },
   "file_extension": ".py",
   "mimetype": "text/x-python",
   "name": "python",
   "nbconvert_exporter": "python",
   "pygments_lexer": "ipython3",
   "version": "3.7.3"
  }
 },
 "nbformat": 4,
 "nbformat_minor": 5
}
