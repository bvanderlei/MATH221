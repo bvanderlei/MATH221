{
 "cells": [
  {
   "cell_type": "markdown",
   "id": "5eb54316",
   "metadata": {},
   "source": [
    "# MATH 221: Assignment 4\n",
    "<h3><font color= red>  Due Mar. 30 </font></h3>\n",
    "<h4> Up to three students may submit the same notebook.  Enter the names of all students who contributed to the assignment in the next cell.</h4>\n",
    "<h4> Please also include your names in the name of the notebook file you submit to Blackboard.</h4>\n",
    "<br><br>"
   ]
  },
  {
   "cell_type": "markdown",
   "id": "6d81fb37",
   "metadata": {},
   "source": [
    "## Names:\n",
    "\n",
    "<br>"
   ]
  },
  {
   "cell_type": "code",
   "execution_count": 2,
   "id": "dd1883e9",
   "metadata": {},
   "outputs": [],
   "source": [
    "## IMPORTANT!!  Execute this import cell each time before you begin working.\n",
    "## Before you begin, transfer the laguide.py file from Blackboard to the JupyterHub.\n",
    "\n",
    "%matplotlib inline\n",
    "import matplotlib.pyplot as plt\n",
    "import numpy as np\n",
    "import laguide as lag"
   ]
  },
  {
   "cell_type": "markdown",
   "id": "17effa52",
   "metadata": {},
   "source": [
    "**For this assignment** you may want to make use of the $\\texttt{DotProduct}$ function in the $\\texttt{laguide}$ module.  Here is an example of how it is called."
   ]
  },
  {
   "cell_type": "code",
   "execution_count": 3,
   "id": "b520236d",
   "metadata": {},
   "outputs": [
    {
     "name": "stdout",
     "output_type": "stream",
     "text": [
      "-9.0\n"
     ]
    }
   ],
   "source": [
    "x = np.array([[1],[3],[5],[-2]])\n",
    "y = np.array([[-2],[3],[0],[8]])\n",
    "print(lag.DotProduct(x,y))\n"
   ]
  },
  {
   "cell_type": "markdown",
   "id": "0cbbe0cb",
   "metadata": {},
   "source": [
    "<br><br><br>\n",
    "\n",
    "### Problem 1a\n",
    "\n",
    "\n",
    "Give bases for the four fundamental subspaces of the matrix $A$\n",
    "\n",
    "$$\n",
    "\\begin{equation}\n",
    "A = \\left[ \\begin{array}{rrrrr}  1 & 1 & 0 & 2 & -1 \\\\  1 & 0 & 1 & -1 & 0 \n",
    " \\\\ 3 & 1 & 2 & 0 & -1 \\end{array} \\right] \n",
    "\\end{equation}\n",
    "$$\n",
    "\n"
   ]
  },
  {
   "cell_type": "code",
   "execution_count": 4,
   "id": "a76a4ff9",
   "metadata": {},
   "outputs": [
    {
     "name": "stdout",
     "output_type": "stream",
     "text": [
      "[[ 1.  0.  1. -1.  0.]\n",
      " [ 0.  1. -1.  3. -1.]\n",
      " [ 0.  0.  0.  0.  0.]]\n"
     ]
    }
   ],
   "source": [
    "A = np.array([[1,1,0,2,-1],[1,0,1,-1,0],[3,1,2,0,-1]])\n",
    "A_reduced = lag.FullRowReduction(A)\n",
    "print(A_reduced)"
   ]
  },
  {
   "cell_type": "markdown",
   "id": "1601999f",
   "metadata": {},
   "source": [
    "<h3><font color=blue> Answer 1a </font> </h3>\n",
    "\n",
    "<h4><font color=green> +1 point </font> </h4>\n",
    "\n",
    "Basis for $\\mathcal{R}(A)$ is the pivot rows\n",
    "\n",
    "$$\n",
    "\\begin{equation}\n",
    "\\left\\{ \n",
    "\\left[ \\begin{array}{r}  1 \\\\ 1  \\\\ 0 \\\\ 2 \\\\ -1\\end{array} \\right] \n",
    "\\left[ \\begin{array}{r}  1 \\\\ 0  \\\\ 1 \\\\ -1 \\\\ 0\\end{array} \\right] \n",
    "\\right\\}\n",
    "\\end{equation}\n",
    "$$\n",
    "\n",
    "Basis for $\\mathcal{C}(A)$ is the pivot columns\n",
    "\n",
    "$$\n",
    "\\begin{equation}\n",
    "\\left\\{ \n",
    "\\left[ \\begin{array}{r}  1 \\\\ 1 \\\\ 3 \\end{array} \\right] \n",
    "\\left[ \\begin{array}{r}  1 \\\\ 0 \\\\ 1  \\end{array} \\right] \n",
    "\\right\\}\n",
    "\\end{equation}\n",
    "$$\n",
    "\n",
    "\n",
    "\n",
    "Basis for $\\mathcal{N}(A)$ is\n",
    "\n",
    "$$\n",
    "\\begin{equation}\n",
    "\\left\\{ \n",
    "\\left[ \\begin{array}{r}  0 \\\\ 1  \\\\ 0 \\\\ 0 \\\\ 1 \\end{array} \\right] \n",
    "\\left[ \\begin{array}{r}  -1 \\\\ 3  \\\\ 0 \\\\ -1 \\\\ 0 \\end{array} \\right] \n",
    "\\left[ \\begin{array}{r}  -1 \\\\ 1  \\\\ 1 \\\\ 0 \\\\ 0 \\end{array} \\right] \n",
    "\\right\\}\n",
    "\\end{equation}\n",
    "$$\n",
    "\n",
    "Basis for $\\mathcal{N}(A^T)$ is\n",
    "\n",
    "$$\n",
    "\\begin{equation}\n",
    "\\left\\{ \n",
    "\\left[ \\begin{array}{r}  -1 \\\\ -2 \\\\ 1\\end{array} \\right] \n",
    "\\right\\}\n",
    "\\end{equation}\n",
    "$$\n"
   ]
  },
  {
   "cell_type": "markdown",
   "id": "750d2bd7",
   "metadata": {},
   "source": [
    "### Problem 1b\n",
    "\n",
    "Demonstrate that all basis vectors of $\\mathcal{R}(A)$ are orthogonal to all basis vectors of $\\mathcal{N}(A)$.\n",
    "\n",
    "(*Use a code cell to build each of the vectors and compute all dot products.*)\n",
    "\n"
   ]
  },
  {
   "cell_type": "markdown",
   "id": "90149df9",
   "metadata": {},
   "source": [
    "<h3><font color=blue> Answer 1b </font> </h3>\n",
    "\n",
    "<h4><font color=green> +0.5 point </font> </h4>"
   ]
  },
  {
   "cell_type": "code",
   "execution_count": 5,
   "id": "4e5ea4b8",
   "metadata": {},
   "outputs": [
    {
     "name": "stdout",
     "output_type": "stream",
     "text": [
      "0.0\n",
      "0.0\n",
      "0.0\n",
      "0.0\n",
      "0.0\n",
      "0.0\n",
      "\n",
      "R:\n",
      " [[ 1  1  0  2 -1]\n",
      " [ 1  0  1 -1  0]] \n",
      "\n",
      "N:\n",
      " [[ 0  1 -1]\n",
      " [ 1 -3  1]\n",
      " [ 0  0  1]\n",
      " [ 0  1  0]\n",
      " [ 1  0  0]] \n",
      "\n",
      "R@N:\n",
      " [[0 0 0]\n",
      " [0 0 0]] \n",
      "\n"
     ]
    }
   ],
   "source": [
    "## CODE HERE\n",
    "R1 = np.array([[1],[1],[0],[2],[-1]])\n",
    "R2 = np.array([[1],[0],[1],[-1],[0]])\n",
    "\n",
    "N1 = np.array([[0],[1],[0],[0],[1]])\n",
    "N2 = np.array([[1],[-3],[0],[1],[0]])\n",
    "N3 = np.array([[-1],[1],[1],[0],[0]])\n",
    "\n",
    "print(lag.DotProduct(R1,N1))\n",
    "print(lag.DotProduct(R1,N2))\n",
    "print(lag.DotProduct(R1,N3))\n",
    "print(lag.DotProduct(R2,N1))\n",
    "print(lag.DotProduct(R2,N2))\n",
    "print(lag.DotProduct(R2,N3))\n",
    "\n",
    "## OR as matrix multiplication\n",
    "R = np.vstack((R1.T,R2.T))\n",
    "N = np.hstack((N1,N2,N3))\n",
    "print(\"\\nR:\\n\",R,'\\n')\n",
    "print(\"N:\\n\",N,'\\n')\n",
    "print(\"R@N:\\n\",R@N,'\\n')\n"
   ]
  },
  {
   "cell_type": "markdown",
   "id": "a4180a9e",
   "metadata": {},
   "source": [
    "### Problem 1c\n",
    "\n",
    "Demonstrate that all basis vectors of $\\mathcal{C}(A)$ are orthogonal to all basis vectors of $\\mathcal{N}(A^T)$.\n",
    "\n",
    "<h4><font color=green> +0.5 point </font> </h4>\n",
    "\n",
    "(*Use a code cell to build each of the vectors and compute all dot products.*)\n",
    "\n",
    "**BONUS:** Show how this can be done with a single matrix multiplication.\n",
    "\n",
    "<h4><font color=green> +0.5 point </font> </h4>\n",
    "\n",
    "<h3><font color=blue> Answer 1c </font> </h3>"
   ]
  },
  {
   "cell_type": "code",
   "execution_count": 6,
   "id": "cfc6e3dd",
   "metadata": {},
   "outputs": [
    {
     "name": "stdout",
     "output_type": "stream",
     "text": [
      "0.0\n",
      "0.0\n"
     ]
    }
   ],
   "source": [
    "## CODE HERE\n",
    "\n",
    "C1 = np.array([[1],[1],[3]])\n",
    "C2 = np.array([[1],[0],[1]])\n",
    "\n",
    "LN1 = np.array([[-1],[-2],[1]])\n",
    "\n",
    "print(lag.DotProduct(C1,LN1))\n",
    "print(lag.DotProduct(C2,LN1))"
   ]
  },
  {
   "cell_type": "markdown",
   "id": "fe5fdc08",
   "metadata": {},
   "source": [
    "<br><br><br>\n",
    "\n",
    "### Problem 2a\n",
    "\n",
    "Determine the $QR$ factorization of the following matrix.\n",
    "\n",
    "$$\n",
    "\\begin{equation}\n",
    "A= \\left[ \\begin{array}{rr}  1 & 1  \\\\  2 & 3 \\\\ 2  & 1 \\end{array} \\right] \n",
    "\\end{equation}\n",
    "$$\n"
   ]
  },
  {
   "cell_type": "markdown",
   "id": "50405964",
   "metadata": {},
   "source": [
    "<h3><font color=blue> Answer 2a </font> </h3>\n",
    "\n",
    "<h4><font color=green> +1 point </font> </h4>\n",
    "\n",
    "$$\n",
    "\\begin{equation}\n",
    "Q=  \\left[ \\begin{array}{rr}  \n",
    "\\frac12 & 0  \\\\\n",
    "\\frac23 & \\frac{1}{\\sqrt{2}}  \\\\\n",
    "\\frac23 & -\\frac{1}{\\sqrt{2}}  \n",
    "\\end{array} \\right] \n",
    "\\end{equation}\n",
    "$$\n",
    "\n",
    "$$\n",
    "\\begin{equation}\n",
    "R=  \\left[ \\begin{array}{rrrr}  \n",
    "3 & 3  \\\\\n",
    "0 & \\sqrt{2} \n",
    "\\end{array} \\right] \n",
    "\\end{equation}\n",
    "$$"
   ]
  },
  {
   "cell_type": "code",
   "execution_count": 7,
   "id": "e98a8197",
   "metadata": {},
   "outputs": [
    {
     "name": "stdout",
     "output_type": "stream",
     "text": [
      "Q^TQ = \n",
      "\n",
      "[[1.00000000e+00 7.66449057e-18]\n",
      " [7.66449057e-18 1.00000000e+00]]\n",
      "\n",
      " Rounding off:\n",
      "\n",
      "[[1. 0.]\n",
      " [0. 1.]]\n",
      "\n",
      " QR = \n",
      "\n",
      "[[1. 1.]\n",
      " [2. 3.]\n",
      " [2. 1.]]\n"
     ]
    }
   ],
   "source": [
    "## CODE HERE\n",
    "## Build Q and R. Show that QR = A and that Q^TQ is the identity\n",
    "\n",
    "Q = np.array([[1/3, 0],[2/3, 1/np.sqrt(2)],[2/3, -1/np.sqrt(2)]])\n",
    "R = np.array([[3, 3],[0, np.sqrt(2)]])\n",
    "\n",
    "print(\"Q^TQ = \\n\")\n",
    "print(Q.T@Q)\n",
    "print(\"\\n Rounding off:\\n\")\n",
    "print(np.round(Q.T@Q,8))\n",
    "\n",
    "print(\"\\n QR = \\n\")\n",
    "print(Q@R)\n"
   ]
  },
  {
   "cell_type": "markdown",
   "id": "662e9a42",
   "metadata": {},
   "source": [
    "<br><br><br>\n",
    "\n",
    "### Problem 2b\n",
    "\n",
    "Use your result from Problem 2a to find the least squares solution to the system $Ax=b$ where \n",
    "\n",
    "$$\n",
    "\\begin{equation}\n",
    "b = \\left[ \\begin{array}{r}  1 \\\\ 0 \\\\ -1 \\end{array} \\right]\n",
    "\\end{equation}\n",
    "$$\n",
    "\n",
    "Use the $QR$ factorization.  **Do not solve the normal equations.**"
   ]
  },
  {
   "cell_type": "markdown",
   "id": "7637c75f",
   "metadata": {},
   "source": [
    "<h3><font color=blue> Answer 2b </font> </h3>\n",
    "\n",
    "\n",
    "<h4><font color=green> +1 point </font> </h4>\n",
    "\n",
    "\n",
    "Solve $Rx = Q^Tb$ by back substitution.  Python or hand calculation is fine.\n",
    "\n",
    "$$\n",
    "\\begin{equation}\n",
    "x = \\left[ \\begin{array}{r}  -\\frac{11}{18} \\\\ \\frac12 \\end{array} \\right]\n",
    "\\end{equation}\n",
    "$$\n"
   ]
  },
  {
   "cell_type": "code",
   "execution_count": 8,
   "id": "29d4386e",
   "metadata": {},
   "outputs": [
    {
     "name": "stdout",
     "output_type": "stream",
     "text": [
      "[[-0.61111111]\n",
      " [ 0.5       ]]\n"
     ]
    }
   ],
   "source": [
    "## OR CODE YOUR ANSWER HERE\n",
    "\n",
    "b = np.array([[1],[0],[-1]])\n",
    "x = lag.BackSubstitution(R,Q.T@b)\n",
    "print(x)"
   ]
  },
  {
   "cell_type": "markdown",
   "id": "9dad9a25",
   "metadata": {},
   "source": [
    "<br><br><br>\n",
    "\n",
    "### Problem 3a\n",
    "\n",
    "Let $U = \\{[x_1\\, x_2\\, x_3\\, x_4]^T : x_1 + 3x_2 + x_3 -2x_4 = 0 \\}$.  Find the matrix $P$ that projects vectors orthogonally onto $U$.\n",
    "\n",
    "<br><br>\n"
   ]
  },
  {
   "cell_type": "markdown",
   "id": "cf2c8b67",
   "metadata": {},
   "source": [
    "<h3><font color=blue> Answer 3a </font> </h3>\n",
    "\n",
    "<h4><font color=green> +1 point </font> </h4>\n",
    "\n",
    "\n",
    "The general solution to $x_1 + 3x_2 + x_3 -2x_4 = 0$ is\n",
    "\n",
    "$$\n",
    "\\begin{equation}\n",
    "\\left[ \\begin{array}{r}  x_1 \\\\ x_2  \\\\ x_3 \\\\ x_4 \\\\ \\end{array} \\right]  = \n",
    "r\\left[ \\begin{array}{r}  -3 \\\\ 1  \\\\ 0 \\\\ 0 \\\\ \\end{array} \\right]  + \n",
    "s\\left[ \\begin{array}{r}  -1 \\\\ 0  \\\\ 1 \\\\ 0 \\\\ \\end{array} \\right]  + \n",
    "t\\left[ \\begin{array}{r}  2\\\\ 0  \\\\ 0 \\\\ 1 \\\\ \\end{array} \\right]  \n",
    "\\end{equation}\n",
    "$$\n",
    "\n",
    "so a basis for $U$ is:\n",
    "\n",
    "\n",
    "$$\n",
    "\\begin{equation}\n",
    "\\left\\{\n",
    "\\left[ \\begin{array}{r}  -3 \\\\ 1  \\\\ 0 \\\\ 0 \\\\ \\end{array} \\right], \n",
    "\\left[ \\begin{array}{r}  -1 \\\\ 0  \\\\ 1 \\\\ 0 \\\\ \\end{array} \\right], \n",
    "\\left[ \\begin{array}{r}  2\\\\ 0  \\\\ 0 \\\\ 1 \\\\ \\end{array} \\right]  \n",
    "\\right\\}\n",
    "\\end{equation}\n",
    "$$\n",
    "\n",
    "Now let \n",
    "$$\n",
    "\\begin{equation}\n",
    "A = \\left[ \\begin{array}{rrr}  \n",
    "-3 & -1 & 2  \\\\\n",
    "1 & 0 & 0  \\\\\n",
    "0 & 1 & 0  \\\\\n",
    "0 & 0 & 1  \n",
    "\\end{array} \\right] \n",
    "\\end{equation}\n",
    "$$\n",
    "\n",
    "and $P=A(A^TA)^{-1}A^T$.\n",
    "\n",
    "$$\n",
    "\\begin{equation}\n",
    "P = \\frac{1}{15}\\left[ \\begin{array}{rrrr}  \n",
    "14 & -3 & -1 & 2 \\\\\n",
    "-3 & 6 & -3 & 6 \\\\\n",
    "-1 & -3 & 14 & 2 \\\\\n",
    "2 & 6 & 2 & 11 \n",
    "\\end{array} \\right] \n",
    "\\end{equation}\n",
    "$$\n"
   ]
  },
  {
   "cell_type": "markdown",
   "id": "7226ca53",
   "metadata": {},
   "source": [
    "<br><br><br>\n",
    "\n",
    "### Problem 3b\n",
    "\n",
    "<h4><font color=green> +1 point </font> </h4>\n",
    "\n",
    "\n",
    "Demonstrate that your matrix is a projection matrix by showing that $P^2=P$.\n"
   ]
  },
  {
   "cell_type": "markdown",
   "id": "da7268e0",
   "metadata": {},
   "source": [
    "<br><br>\n",
    "\n",
    "\n",
    "<h3><font color=blue> Answer 3b </font> </h3>"
   ]
  },
  {
   "cell_type": "code",
   "execution_count": 9,
   "id": "5946954d",
   "metadata": {},
   "outputs": [
    {
     "name": "stdout",
     "output_type": "stream",
     "text": [
      "P:\n",
      " [[ 0.93333333 -0.2        -0.06666667  0.13333333]\n",
      " [-0.2         0.4        -0.2         0.4       ]\n",
      " [-0.06666667 -0.2         0.93333333  0.13333333]\n",
      " [ 0.13333333  0.4         0.13333333  0.73333333]]\n",
      "\n",
      "P@P:\n",
      " [[ 0.93333333 -0.2        -0.06666667  0.13333333]\n",
      " [-0.2         0.4        -0.2         0.4       ]\n",
      " [-0.06666667 -0.2         0.93333333  0.13333333]\n",
      " [ 0.13333333  0.4         0.13333333  0.73333333]]\n"
     ]
    }
   ],
   "source": [
    "## CODE HERE\n",
    "## Build P and print P and P@P\n",
    "\n",
    "A = np.array([[-3, -1, 2],[1,0,0],[0,1,0],[0,0,1]])\n",
    "P = A@lag.Inverse(A.T@A)@A.T\n",
    "print(\"P:\\n\",P)\n",
    "print(\"\\nP@P:\\n\",P@P)"
   ]
  },
  {
   "cell_type": "markdown",
   "id": "2eeb7aec",
   "metadata": {},
   "source": [
    "<br><br><br>\n",
    "\n",
    "### Problem 3c\n",
    "\n",
    "Demonstrate that your matrix projects to the correct subspace by showing that $Px$ is actually in $U$ for\n",
    "\n",
    "$$\n",
    "\\begin{equation}\n",
    "x = \\left[ \\begin{array}{r}  1 \\\\ 0 \\\\ 0 \\\\ 1 \\end{array} \\right]\n",
    "\\end{equation}\n",
    "$$\n",
    "\n"
   ]
  },
  {
   "cell_type": "markdown",
   "id": "911953c9",
   "metadata": {},
   "source": [
    "<br><br>\n",
    "\n",
    "\n",
    "<h3><font color=blue> Answer 3c </font> </h3>\n",
    "\n",
    "<h4><font color=green> +1 point </font> </h4>\n"
   ]
  },
  {
   "cell_type": "code",
   "execution_count": 20,
   "id": "e5dcda82",
   "metadata": {},
   "outputs": [
    {
     "name": "stdout",
     "output_type": "stream",
     "text": [
      "[[-3.]\n",
      " [ 1.]\n",
      " [-0.]\n",
      " [ 0.]]\n",
      "[[ 1.        ]\n",
      " [-0.        ]\n",
      " [-0.25      ]\n",
      " [ 0.79166667]]\n",
      "-1.1102230246251565e-15\n"
     ]
    }
   ],
   "source": [
    "## CODE HERE\n",
    "## Print P@x and show that P@x is in U.\n",
    "\n",
    "x = np.array([[-3],[1],[0],[0]])\n",
    "x_hat = P@x\n",
    "print(np.round(x_hat,8))\n",
    "z = x-x_hat\n",
    "print(z/z[0])\n",
    "print(x_hat[0,0]+3*x_hat[1,0]+x_hat[2,0]-2*x_hat[3,0])"
   ]
  },
  {
   "cell_type": "markdown",
   "id": "be1e0b76",
   "metadata": {},
   "source": [
    "<br><br><br>\n",
    "\n",
    "### Problem 4a\n",
    "\n",
    "Given the points  $(-1,0)$, $(0,1)$, $(1,3)$, and $(2,9)$, find the parabola $y=A + Bx + Cx^2$ that best fits through the points in the sense of least squares.\n",
    "\n"
   ]
  },
  {
   "cell_type": "markdown",
   "id": "f9bd56d3",
   "metadata": {},
   "source": [
    "<h3><font color=blue> Answer 4a </font> </h3>\n",
    "\n",
    "<h4><font color=green> +2 points </font> </h4>\n",
    "\n",
    "\n",
    "The system to be solved is:\n",
    "\n",
    "$$\n",
    "\\begin{eqnarray*}\n",
    "A - B + C & = & 0 \\\\\n",
    "A + 0B + 0C & = & 1 \\\\\n",
    "A + B + C & = & 3 \\\\\n",
    "A + 2B + 4C & = & 9 \\\\\n",
    "\\end{eqnarray*}\n",
    "$$\n",
    "\n",
    "We can write in matrix form $Dx=b$.\n",
    "\n",
    "$$\n",
    "\\begin{equation}\n",
    "\\left[ \\begin{array}{rrr}  \n",
    "1 & -1 & 1  \\\\\n",
    "1 & 0 & 0  \\\\\n",
    "1 & 1 & 1  \\\\\n",
    "1 & 2 & 4  \n",
    "\\end{array} \\right]\n",
    "\\left[ \\begin{array}{r}  A \\\\ B \\\\ C  \\end{array} \\right] =\n",
    "\\left[ \\begin{array}{r}  0 \\\\ 1 \\\\ 3 \\\\ 9 \\end{array} \\right]\n",
    "\\end{equation}\n",
    "$$\n",
    "\n",
    "The system ($Dx=b$) is inconsistent so we solve the normal equations $D^TDx=D^Tb$."
   ]
  },
  {
   "cell_type": "code",
   "execution_count": 11,
   "id": "964d1fa5",
   "metadata": {},
   "outputs": [
    {
     "name": "stdout",
     "output_type": "stream",
     "text": [
      "[[ 4  2  6]\n",
      " [ 2  6  8]\n",
      " [ 6  8 18]]\n",
      "[[0.55]\n",
      " [1.65]\n",
      " [1.25]]\n"
     ]
    }
   ],
   "source": [
    "## Solve the normal equations\n",
    "\n",
    "D = np.array([[1,-1,1],[1,0,0],[1,1,1],[1,2,4]])\n",
    "b = np.array([[0],[1],[3],[9]])\n",
    "\n",
    "print(D.T@D)\n",
    "Solution = lag.SolveSystem(D.T@D,D.T@b)\n",
    "print(Solution)"
   ]
  },
  {
   "cell_type": "markdown",
   "id": "9eb8fd9b",
   "metadata": {},
   "source": [
    "Enter your values of $A$, $B$, and $C$ into the code block below to see a plot of your result\n"
   ]
  },
  {
   "cell_type": "code",
   "execution_count": 12,
   "id": "fff588c8",
   "metadata": {},
   "outputs": [
    {
     "data": {
      "image/png": "[encoded data removed]",
      "text/plain": [
       "<Figure size 432x288 with 1 Axes>"
      ]
     },
     "metadata": {
      "needs_background": "light"
     },
     "output_type": "display_data"
    }
   ],
   "source": [
    "A = Solution[0,0]\n",
    "B = Solution[1,0]\n",
    "C = Solution[2,0]\n",
    "\n",
    "\n",
    "x = np.array([-1, 0, 1, 2])\n",
    "y = np.array([0, 1, 3, 9])\n",
    "\n",
    "fig,ax = plt.subplots()\n",
    "\n",
    "x_fit = np.linspace(-5,5,100)\n",
    "y_fit = A + B*x_fit + C*x_fit**2\n",
    "\n",
    "ax.plot(x,y,'ro');\n",
    "ax.plot(x_fit,y_fit,'b',ls=':');\n",
    "\n",
    "ax.set_xlim(-5,5);\n",
    "ax.set_ylim(-2,10);\n",
    "ax.axvline(color='k',linewidth = 1)\n",
    "ax.axhline(color='k',linewidth = 1)\n",
    "ax.grid('True',ls=':')"
   ]
  },
  {
   "cell_type": "markdown",
   "id": "bd939ae2",
   "metadata": {},
   "source": [
    "<br><br><br>\n",
    "\n",
    "### Problem 5a\n",
    "\n",
    " $C[-\\pi,\\pi]$ is the space of continuous functions on $[-\\pi,\\pi]$.  An inner product on this space can be defined as\n",
    "\n",
    "$\n",
    "\\begin{equation}\n",
    "\\left<f,g\\right> = \\int_{-\\pi}^{\\pi}f(x)g(x)\\,dx\n",
    "\\end{equation}\n",
    "$\n",
    "\n",
    "Find the linear function $y(x)=mx+b$ such that $||y-\\sin{2x}||^2$ is minimized.\n",
    "\n"
   ]
  },
  {
   "cell_type": "markdown",
   "id": "9fcd7e9f",
   "metadata": {},
   "source": [
    "<h3><font color=blue> Answer 5a </font> </h3>\n",
    "\n",
    "<h4><font color=green> +1 point </font> </h4>\n",
    "\n",
    "\n",
    "Let $U=\\textrm{Span}\\{1,x\\}$.  We are looking for the orthogonal projection of $\\sin{2x}$ onto $U$.  The set $\\{1,x\\}$ is orthogonal since\n",
    "\n",
    "$$\n",
    "\\begin{equation}\n",
    "\\left<1,x\\right> = \\int_{-\\pi}^{\\pi} x\\,dx = 0\n",
    "\\end{equation}\n",
    "$$\n",
    "\n",
    "Using **Definition 5.7**\n",
    "\n",
    "$$\n",
    "\\begin{equation}\n",
    "\\textrm{Proj}_U(\\sin{2x}) = \\frac{\\left<1,\\sin{2x}\\right>}{\\left<1,1\\right>}(1) + \\frac{\\left<x,\\sin{2x}\\right>}{\\left<x,x\\right>}(x)\n",
    "\\end{equation}\n",
    "$$\n",
    "\n",
    "Compute the integrals to find $m$ and $b$\n",
    "\n",
    "$$\n",
    "\\begin{equation}\n",
    "\\left<1,1\\right> = \\int_{-\\pi}^{\\pi} \\,dx = 2\\pi \\quad\\quad\n",
    "\\left<1,\\sin{2x}\\right> = \\int_{-\\pi}^{\\pi} \\sin{2x}\\,dx = 0\n",
    "\\end{equation}\n",
    "$$\n",
    "\n",
    "$$\n",
    "\\begin{equation}\n",
    "\\left<x,x\\right> = \\int_{-\\pi}^{\\pi}x^2 \\,dx =\\frac{2\\pi^3}{3} \\quad\\quad\n",
    "\\left<x,\\sin{2x}\\right> = \\int_{-\\pi}^{\\pi} x\\sin{2x}\\,dx = -\\pi\n",
    "\\end{equation}\n",
    "$$\n",
    "\n",
    "\n",
    "$$\n",
    "\\begin{equation}\n",
    "b = 0 \\quad\\quad\n",
    "m = -\\frac{3}{2\\pi^2}\n",
    "\\end{equation}\n",
    "$$\n"
   ]
  },
  {
   "cell_type": "markdown",
   "id": "b73650da",
   "metadata": {},
   "source": [
    "Enter your values of $m$ and $b$ into the code block below to see a plot of your result\n"
   ]
  },
  {
   "cell_type": "code",
   "execution_count": 13,
   "id": "afde4bd7",
   "metadata": {},
   "outputs": [
    {
     "data": {
      "image/png": "[encoded data removed]",
      "text/plain": [
       "<Figure size 432x288 with 1 Axes>"
      ]
     },
     "metadata": {
      "needs_background": "light"
     },
     "output_type": "display_data"
    }
   ],
   "source": [
    "m = -3/2/(np.pi)**2\n",
    "b = 0.0\n",
    "\n",
    "fig,ax = plt.subplots()\n",
    "\n",
    "x_plot = np.linspace(-5,5,100)\n",
    "y_sin = np.sin(2*x_plot)\n",
    "y_line = m*x_plot + b\n",
    "\n",
    "ax.plot(x_plot,y_line,'b',ls=':');\n",
    "ax.plot(x_plot,y_sin,'r');\n",
    "\n",
    "ax.set_xlim(-3,3);\n",
    "ax.set_ylim(-2,2);\n",
    "ax.axvline(color='k',linewidth = 1)\n",
    "ax.axhline(color='k',linewidth = 1)\n",
    "ax.grid('True',ls=':')"
   ]
  },
  {
   "cell_type": "code",
   "execution_count": null,
   "id": "a45fbc6b",
   "metadata": {},
   "outputs": [],
   "source": []
  }
 ],
 "metadata": {
  "kernelspec": {
   "display_name": "Python 3",
   "language": "python",
   "name": "python3"
  },
  "language_info": {
   "codemirror_mode": {
    "name": "ipython",
    "version": 3
   },
   "file_extension": ".py",
   "mimetype": "text/x-python",
   "name": "python",
   "nbconvert_exporter": "python",
   "pygments_lexer": "ipython3",
   "version": "3.7.3"
  }
 },
 "nbformat": 4,
 "nbformat_minor": 5
}
