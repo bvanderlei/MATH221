{
 "cells": [
  {
   "cell_type": "markdown",
   "id": "5eb54316",
   "metadata": {},
   "source": [
    "# MATH 221: Assignment 3\n",
    "<h3><font color= red>  Due Mar. 16 </font></h3>\n",
    "<h4> Up to three students may submit the same notebook.  Enter the names of all students who contributed to the assignment in the next cell.</h4>\n",
    "<h4> Please also include your names in the name of the notebook file you submit to Blackboard.</h4>\n",
    "<br><br>"
   ]
  },
  {
   "cell_type": "markdown",
   "id": "6d81fb37",
   "metadata": {},
   "source": [
    "## Names:\n",
    "\n",
    "<br>"
   ]
  },
  {
   "cell_type": "code",
   "execution_count": null,
   "id": "dd1883e9",
   "metadata": {},
   "outputs": [],
   "source": [
    "## IMPORTANT!!  Execute this import cell each time before you begin working.\n",
    "## Before you begin, transfer the laguide.py file from Blackboard to the JupyterHub.\n",
    "\n",
    "import numpy as np\n",
    "import laguide as lag"
   ]
  },
  {
   "cell_type": "markdown",
   "id": "0cbbe0cb",
   "metadata": {},
   "source": [
    "<br><br><br>\n",
    "\n",
    "### Problem 1a\n",
    "\n",
    "Let $T:\\mathbb{P}_2\\to\\mathbb{P}_1$ be defined by $T(p(x))=p'(x)+p(0)$.  Let $\\alpha = \\{1,x,x^2\\}$ and $\\beta = \\{2, 1-x\\}$.  \n",
    "Find the matrix $[T]_{\\alpha}^{\\beta}$.\n"
   ]
  },
  {
   "cell_type": "markdown",
   "id": "1601999f",
   "metadata": {},
   "source": [
    "<h3><font color=blue> Answer 1a </font> </h3>\n",
    "\n",
    "$$\n",
    "\\begin{equation}\n",
    "[T]_{\\alpha}^{\\beta} = \\left[ \\begin{array}{rrr}  \n",
    "* & * & * \\\\\n",
    "* & * & * \\\\\n",
    "\\end{array} \\right]\n",
    "\\end{equation}\n",
    "$$\n"
   ]
  },
  {
   "cell_type": "markdown",
   "id": "750d2bd7",
   "metadata": {},
   "source": [
    "### Problem 1b\n",
    "\n",
    "Demonstrate that your matrix is correct by applying $T$ to $p(x)=3x^2+2x-1$ using the matrix representation.\n",
    "\n"
   ]
  },
  {
   "cell_type": "markdown",
   "id": "90149df9",
   "metadata": {},
   "source": [
    "<h3><font color=blue> Answer 1b </font> </h3>\n",
    "\n",
    "(*Type your answer here.*)\n"
   ]
  },
  {
   "cell_type": "markdown",
   "id": "fe5fdc08",
   "metadata": {},
   "source": [
    "<br><br><br>\n",
    "\n",
    "### Problem 2a\n",
    "\n",
    "Let $L:\\mathbb{R}^2\\to\\mathbb{R}^2$ be the linear transformation that first reflects a vector about the line $x_2=x_1$ and then projects the result onto the $x_1$-axis.  Describe Ker($L$)\n"
   ]
  },
  {
   "cell_type": "markdown",
   "id": "50405964",
   "metadata": {},
   "source": [
    "<h3><font color=blue> Answer 2a </font> </h3>\n",
    "\n",
    "(*Type your answer here.*)"
   ]
  },
  {
   "cell_type": "markdown",
   "id": "662e9a42",
   "metadata": {},
   "source": [
    "<br><br><br>\n",
    "\n",
    "### Problem 2b\n",
    "\n",
    "Find the standard matrix representation of $L$.  That is, let $\\alpha$ be the standard ordered basis for $\\mathbb{R}^2$ and find $[L]_{\\alpha}^{\\alpha}$.\n"
   ]
  },
  {
   "cell_type": "markdown",
   "id": "7637c75f",
   "metadata": {},
   "source": [
    "<h3><font color=blue> Answer 2b </font> </h3>\n",
    "\n",
    "\n",
    "(*Type your answer here.*)"
   ]
  },
  {
   "cell_type": "markdown",
   "id": "393c7054",
   "metadata": {},
   "source": [
    "<br><br><br>\n",
    "\n",
    "### Problem 2c\n",
    "\n",
    "Let $\\beta$ be the basis\n",
    "\n",
    "$$\n",
    "\\begin{equation}\n",
    "\\beta =  \\left\\{\\left[ \\begin{array}{c} 3 \\\\ 1 \\end{array} \\right], \\left[ \\begin{array}{c} 1 \\\\ 0 \\end{array} \\right]\\right\\}\n",
    "\\end{equation}\n",
    "$$\n",
    "\n",
    "Find $[L]_{\\beta}^{\\alpha}$."
   ]
  },
  {
   "cell_type": "markdown",
   "id": "fef6125b",
   "metadata": {},
   "source": [
    "<h3><font color=blue> Answer 2c </font> </h3>\n",
    "\n",
    "\n",
    "(*Type your answer here.*)"
   ]
  },
  {
   "cell_type": "markdown",
   "id": "cf2c8b67",
   "metadata": {},
   "source": [
    "<br><br><br>\n",
    "\n",
    "### Problem 3a\n",
    "\n",
    "Let $A$ and $B$ be similar matrices.  Show that $A^k$ and $B^k$ are similar for any positive integer $k$.\n",
    "\n",
    "<br>\n",
    "\n",
    "\n",
    "<h3><font color=blue> Answer 3a </font> </h3>"
   ]
  },
  {
   "cell_type": "markdown",
   "id": "a537dd1a",
   "metadata": {},
   "source": [
    "(*Type your answer here.*)"
   ]
  },
  {
   "cell_type": "markdown",
   "id": "ae92656e",
   "metadata": {},
   "source": [
    "<br>\n",
    "\n",
    "### Problem 3b\n",
    "\n",
    "Let $A$ and $B$ be similar matrices.  Show that $\\det{A}=\\det{B}$.\n",
    "\n",
    "<br>\n",
    "\n",
    "\n",
    "<h3><font color=blue> Answer 3b </font> </h3>"
   ]
  },
  {
   "cell_type": "markdown",
   "id": "4d342bfe",
   "metadata": {},
   "source": [
    "(*Type your answer here.*)"
   ]
  },
  {
   "cell_type": "markdown",
   "id": "be1e0b76",
   "metadata": {},
   "source": [
    "<br><br><br>\n",
    "\n",
    "### Problem 4a\n",
    "\n",
    "Let $\\beta$ and $\\gamma$ be two bases for  $\\mathbb{R}^3$\n",
    "\n",
    "$$\n",
    "\\begin{equation}\n",
    "\\beta = \\left\\{ \\left[ \\begin{array}{c} 1 \\\\ 2 \\\\ 1 \\end{array} \\right], \\left[ \\begin{array}{c} 3 \\\\ 0 \\\\ 1 \\end{array} \\right],  \\left[ \\begin{array}{c} 0 \\\\ 2 \\\\ -1 \\end{array} \\right] \\right\\} \\quad \\quad \\quad \\quad\n",
    "\\gamma = \\left\\{ \\left[ \\begin{array}{c} 1 \\\\ 1 \\\\ 1 \\end{array} \\right], \\left[ \\begin{array}{c} 1 \\\\ 1 \\\\ 0 \\end{array} \\right],  \\left[ \\begin{array}{c} 1 \\\\ 0 \\\\ 0 \\end{array} \\right] \\right\\}\n",
    "\\end{equation}\n",
    "$$\n",
    "\n",
    "Find $[x]_{\\gamma}$ if $x = \\left[ \\begin{array}{c} 4 \\\\ 1 \\\\ 1 \\end{array} \\right]$.\n",
    "\n",
    "<br><br>\n",
    "\n",
    "<h3><font color=blue> Answer 4a </font> </h3>"
   ]
  },
  {
   "cell_type": "markdown",
   "id": "f9695493",
   "metadata": {},
   "source": [
    "(*Type your answer here.*)"
   ]
  },
  {
   "cell_type": "markdown",
   "id": "30b436d3",
   "metadata": {},
   "source": [
    "<br><br>\n",
    "\n",
    "### Problem 4b\n",
    "\n",
    "Find the basis-change matrix  $[id]^{\\beta}_{\\gamma}$.\n",
    "\n",
    "<br><br>\n",
    "\n",
    "<h3><font color=blue> Answer 4b </font> </h3>"
   ]
  },
  {
   "cell_type": "markdown",
   "id": "d63deb6a",
   "metadata": {},
   "source": [
    "(*Type your answer here.*)"
   ]
  }
 ],
 "metadata": {
  "kernelspec": {
   "display_name": "Python 3",
   "language": "python",
   "name": "python3"
  },
  "language_info": {
   "codemirror_mode": {
    "name": "ipython",
    "version": 3
   },
   "file_extension": ".py",
   "mimetype": "text/x-python",
   "name": "python",
   "nbconvert_exporter": "python",
   "pygments_lexer": "ipython3",
   "version": "3.7.3"
  }
 },
 "nbformat": 4,
 "nbformat_minor": 5
}
