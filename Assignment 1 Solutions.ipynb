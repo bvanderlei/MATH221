{
 "cells": [
  {
   "cell_type": "markdown",
   "id": "5eb54316",
   "metadata": {},
   "source": [
    "# MATH 221: Assignment 1\n",
    "<h3><font color= red>  Due Jan. 19 </font></h3>\n",
    "<h3> Up to three students may submit the same notebook.  Enter the names of all students who contributed to the assignment on the next line.</h3>\n",
    "<br><br>"
   ]
  },
  {
   "cell_type": "markdown",
   "id": "6d81fb37",
   "metadata": {},
   "source": [
    "## Names:\n",
    "\n",
    "\n",
    "<br>"
   ]
  },
  {
   "cell_type": "code",
   "execution_count": 1,
   "id": "dd1883e9",
   "metadata": {},
   "outputs": [],
   "source": [
    "## IMPORTANT!!  Execute this import cell each time before you begin working.\n",
    "## Before you begin, transfer the laguide.py file from Blackboard to the JupyterHub.\n",
    "\n",
    "import numpy as np\n",
    "import laguide as lag"
   ]
  },
  {
   "cell_type": "markdown",
   "id": "0cbbe0cb",
   "metadata": {},
   "source": [
    "<br><br><br>\n",
    "\n",
    "### Problem 1a\n",
    "\n",
    "Under what condition(s) do the three points $(0,y_1)$, $(1,y_2)$, and $(2,y_3)$ lie on a line $y=mx+b$ for some $m$ and $b$?"
   ]
  },
  {
   "cell_type": "markdown",
   "id": "1601999f",
   "metadata": {},
   "source": [
    "<h3><font color=blue> Answer 1a </font> </h3>\n",
    "\n",
    "The slope of a line connecting any two of the points must be the same.\n",
    "\n",
    "$y_1-2y_2+y_3=0$"
   ]
  },
  {
   "cell_type": "markdown",
   "id": "750d2bd7",
   "metadata": {},
   "source": [
    "### Problem 1b\n",
    "\n",
    "Explain the condition by creating the appropriate linear system and doing the steps of elimination to change the augmented matrix in to a **row-echlon form**.  Do the calcuation by hand and type in the result.  (*Replace the stars with numbers or symbols.*)"
   ]
  },
  {
   "cell_type": "markdown",
   "id": "90149df9",
   "metadata": {},
   "source": [
    "<h3><font color=blue> Answer 1b </font> </h3>\n",
    "\n",
    "Augmented matrix for the linear system:\n",
    "$$\n",
    "\\begin{equation}\n",
    "\\left[ \\begin{array}{rrr}  0 & 1 & y_1\\\\  1 & 1 & y_2  \\\\ 2 & 1 & y_3 \\end{array} \\right] \n",
    "\\end{equation}\n",
    "$$\n",
    "\n",
    "If $y_1-2y_2+y_3=0$, then the row-echelon form of augmented matrix is\n",
    "$$\n",
    "\\begin{equation}\n",
    "\\left[ \\begin{array}{rrr}  1 & 1 & y_2\\\\  0 & 1 & y_1  \\\\ 0 & 0 & y_3-2y_2+y_1 \\end{array} \\right] \n",
    "\\end{equation}\n",
    "$$\n",
    "\n",
    "\n",
    "If $y_1-2y_2+y_3\\neq 0$, then the row-echelon form of augmented matrix is\n",
    "\n",
    "$$\n",
    "\\begin{equation}\n",
    "\\left[ \\begin{array}{rrr}  1 & 1 & y_2\\\\  0 & 1 & y_1  \\\\ 0 & 0 & 1 \\end{array} \\right] \n",
    "\\end{equation}\n",
    "$$\n",
    "\n",
    "and the system is inconsistent since the third row represents the equation $0=1$."
   ]
  },
  {
   "cell_type": "markdown",
   "id": "a4180a9e",
   "metadata": {},
   "source": [
    "### Problem 1c\n",
    "\n",
    "Let $y_1 = 3.5$, $y_2 = 5.6$, and $y_3 = 7.7$ and calculate $m$ and $b$.\n",
    "\n",
    "(*Use a code cell to build the appropriate augmented matrix and carry out the row reduction.*)\n",
    "\n",
    "<h3><font color=blue> Answer 1c </font> </h3>"
   ]
  },
  {
   "cell_type": "code",
   "execution_count": 2,
   "id": "cfc6e3dd",
   "metadata": {},
   "outputs": [
    {
     "name": "stdout",
     "output_type": "stream",
     "text": [
      "[[1.  0.  2.1]\n",
      " [0.  1.  3.5]\n",
      " [0.  0.  0. ]]\n"
     ]
    }
   ],
   "source": [
    "## Code your answer here\n",
    "\n",
    "C = np.array([[0,1,3.5],[1,1,5.6],[2,1,7.7]])\n",
    "C_reduced = lag.FullRowReduction(C)\n",
    "print(C_reduced)"
   ]
  },
  {
   "cell_type": "markdown",
   "id": "1a9d2399",
   "metadata": {},
   "source": [
    "$m = 2.1$\n",
    "\n",
    "$b = 3.5$"
   ]
  },
  {
   "cell_type": "markdown",
   "id": "fe5fdc08",
   "metadata": {},
   "source": [
    "<br><br><br>\n",
    "\n",
    "### Problem 2\n",
    "\n",
    " Find all vectors $x$ that satisfy the matrix equation $Ax = 0$ where\n",
    "\n",
    "$$\n",
    "\\begin{equation}\n",
    "A = \\left[ \\begin{array}{rrr}  3 & -6 & 0\\\\  0 & 2 & -2  \\\\ 1 & -1 & -1 \\end{array} \\right] \n",
    "\\end{equation}\n",
    "$$\n",
    "\n",
    "(*Create the appropriate augmented matrix and use a code cell to do the steps of elimination.*)"
   ]
  },
  {
   "cell_type": "code",
   "execution_count": 3,
   "id": "e3ea4b3c",
   "metadata": {},
   "outputs": [
    {
     "name": "stdout",
     "output_type": "stream",
     "text": [
      "[[ 3 -6  0  0]\n",
      " [ 0  2 -2  0]\n",
      " [ 1 -1 -1  0]] \n",
      "\n",
      "[[ 3. -6.  0.  0.]\n",
      " [ 0.  2. -2.  0.]\n",
      " [ 0.  1. -1.  0.]] \n",
      "\n",
      "[[ 3. -6.  0.  0.]\n",
      " [ 0.  2. -2.  0.]\n",
      " [ 0.  0.  0.  0.]] \n",
      "\n",
      "[[ 3.  0. -6.  0.]\n",
      " [ 0.  2. -2.  0.]\n",
      " [ 0.  0.  0.  0.]] \n",
      "\n",
      "[[ 1.  0. -2.  0.]\n",
      " [ 0.  2. -2.  0.]\n",
      " [ 0.  0.  0.  0.]] \n",
      "\n",
      "[[ 1.  0. -2.  0.]\n",
      " [ 0.  1. -1.  0.]\n",
      " [ 0.  0.  0.  0.]] \n",
      "\n"
     ]
    }
   ],
   "source": [
    "## CODE HERE\n",
    "\n",
    "A = np.array([[3, -6, 0,0],[0, 2, -2,0],[1, -1, -1,0]])\n",
    "print(A,'\\n')\n",
    "A = lag.RowAdd(A,0,2,-1/3)\n",
    "print(A,'\\n')\n",
    "A = lag.RowAdd(A,1,2,-1/2)\n",
    "print(A,'\\n')\n",
    "A = lag.RowAdd(A,1,0,3)\n",
    "print(A,'\\n')\n",
    "A = lag.RowScale(A,0,1/3)\n",
    "print(A,'\\n')\n",
    "A = lag.RowScale(A,1,1/2)\n",
    "print(A,'\\n')"
   ]
  },
  {
   "cell_type": "markdown",
   "id": "7637c75f",
   "metadata": {},
   "source": [
    "<h3><font color=blue> Answer 2 </font> </h3>\n",
    "\n",
    "All vectors of the following form, where $t$ is any real number.\n",
    "\n",
    "$$\n",
    "\\begin{equation}\n",
    "x = \\left[ \\begin{array}{r}  2t \\\\  t\\\\ t \\end{array} \\right] \n",
    "\\end{equation}\n",
    "$$\n"
   ]
  },
  {
   "cell_type": "markdown",
   "id": "cf2c8b67",
   "metadata": {},
   "source": [
    "<br><br><br>\n",
    "\n",
    "### Problem 3\n",
    "In this problem, you will find examples that demonstrate some of the ways in which algebra with matrices differs from algebra with real numbers.\n",
    "\n",
    "Find 2$\\times$2 matrices that fit the following descriptions.  Show calculations with Python code to verify that your examples work.\n",
    "\n",
    "<br><br>\n",
    "\n",
    "Find a matrix $B$ such that $B^2 = -I$, although the entries in $B$ are all real numbers.\n",
    "\n",
    "<h3><font color=blue> Answer 3a </font> </h3>"
   ]
  },
  {
   "cell_type": "code",
   "execution_count": 4,
   "id": "4333d3de",
   "metadata": {},
   "outputs": [
    {
     "name": "stdout",
     "output_type": "stream",
     "text": [
      "[[-1  0]\n",
      " [ 0 -1]]\n"
     ]
    }
   ],
   "source": [
    "## CODE HERE\n",
    "\n",
    "B = np.array([[0,-1],[1,0]])\n",
    "print(B@B)"
   ]
  },
  {
   "cell_type": "markdown",
   "id": "da7268e0",
   "metadata": {},
   "source": [
    "Find matrices $C$, $D$, and $E$ such that $CD=CE$, although $C\\neq 0$ and $D\\neq E$.\n",
    "\n",
    "<h3><font color=blue> Answer 3b </font> </h3>"
   ]
  },
  {
   "cell_type": "code",
   "execution_count": 8,
   "id": "5946954d",
   "metadata": {},
   "outputs": [
    {
     "name": "stdout",
     "output_type": "stream",
     "text": [
      "[[2 3]\n",
      " [2 3]]\n",
      "\n",
      "[[2 3]\n",
      " [2 3]]\n"
     ]
    }
   ],
   "source": [
    "## CODE HERE\n",
    "C = np.array([[1,0],[1,0]])\n",
    "D = np.array([[2,3],[4,5]])\n",
    "E = np.array([[2,3],[8,1]])\n",
    "\n",
    "print(C@D)\n",
    "print('')\n",
    "print(C@E)"
   ]
  },
  {
   "cell_type": "markdown",
   "id": "3fcef47d",
   "metadata": {},
   "source": [
    "Find matrices matrices $F$ and $G$ such that $FG = 0$, although none of the entries in $F$ or $G$ are zero.\n",
    "\n",
    "<h3><font color=blue> Answer 3c </font> </h3>"
   ]
  },
  {
   "cell_type": "code",
   "execution_count": 6,
   "id": "d3abae64",
   "metadata": {},
   "outputs": [
    {
     "name": "stdout",
     "output_type": "stream",
     "text": [
      "[[0 0]\n",
      " [0 0]]\n"
     ]
    }
   ],
   "source": [
    "## CODE HERE\n",
    "F = np.array([[1,-1],[1,-1]])\n",
    "G = np.array([[2,2],[2,2]])\n",
    "\n",
    "print(F@G)"
   ]
  },
  {
   "cell_type": "markdown",
   "id": "be1e0b76",
   "metadata": {},
   "source": [
    "<br><br><br>\n",
    "\n",
    "### Problem 4a\n",
    "\n",
    "Suppose that $S$ is a square matrix.  Explain why the matrix $P=S+S^T$ must be symmetric and the matrix $Q=S-S^T$ must be skew-symmetric."
   ]
  },
  {
   "cell_type": "markdown",
   "id": "f9bd56d3",
   "metadata": {},
   "source": [
    "<h3><font color=blue> Answer 4a </font> </h3>\n",
    "\n",
    "$[P]_{ij} = [S]_{ij}+[S^T]_{ij} = [S]_{ij}+[S]_{ji}$ and $[P]_{ji} = [S]_{ji}+[S^T]_{ji} = [S]_{ji}+[S]_{ij} $ so $[P]_{ij} = [P]_{ji}$\n",
    "\n",
    "Similarly, $[Q]_{ij} = [S]_{ij}-[S]_{ji}$ and $[Q]_{ji} = [S]_{ji}-[S]_{ij}$ so $[Q]_{ij} = -[Q]_{ji}$\n",
    "\n",
    "OR\n",
    "\n",
    "$P^T = (S+S^T)^T = S^T+(S^T)^T = S^T + S = P$\n",
    "\n",
    "$Q^T = (S-S^T)^T = S^T(S^T)^T = S^T - S = -P$\n",
    "\n"
   ]
  },
  {
   "cell_type": "markdown",
   "id": "f828d791",
   "metadata": {},
   "source": [
    "### Problem 4b\n",
    "\n",
    "Compute $P$ and $Q$ when:\n",
    "\n",
    "$$\n",
    "\\begin{equation}\n",
    "S = \\left[ \\begin{array}{rrr}  2 & -3 & 6\\\\  1 & 0 & -1  \\\\ 6 & 2 & 2 \\end{array} \\right] \n",
    "\\end{equation}\n",
    "$$"
   ]
  },
  {
   "cell_type": "code",
   "execution_count": 7,
   "id": "697ad2bf",
   "metadata": {},
   "outputs": [
    {
     "name": "stdout",
     "output_type": "stream",
     "text": [
      "[[ 2 -3  6]\n",
      " [ 1  0 -1]\n",
      " [ 6  2  2]]\n",
      "\n",
      "[[ 4 -2 12]\n",
      " [-2  0  1]\n",
      " [12  1  4]]\n",
      "\n",
      "[[ 0 -4  0]\n",
      " [ 4  0 -3]\n",
      " [ 0  3  0]]\n"
     ]
    }
   ],
   "source": [
    "S = np.array([[2,-3,6],[1,0,-1],[6,2,2]])\n",
    "print(S)\n",
    "print('')\n",
    "print(S+S.T)\n",
    "print('')\n",
    "print(S-S.T)"
   ]
  },
  {
   "cell_type": "markdown",
   "id": "d2310d39",
   "metadata": {},
   "source": [
    "<h3><font color=blue> Answer 4b </font> </h3>\n",
    "\n",
    "$$\n",
    "\\begin{equation}\n",
    "P = \\left[ \\begin{array}{rrr}  4 & -2 & 12\\\\  -2 & 0 & 1  \\\\ 12 & 1 & 4 \\end{array} \\right] \n",
    "\\end{equation}\n",
    "$$\n",
    "\n",
    "$$\n",
    "\\begin{equation}\n",
    "Q = \\left[ \\begin{array}{rrr}  0 & 4 & 0\\\\  -4 & 0 & 3  \\\\ 0 & -3 & 0 \\end{array} \\right] \n",
    "\\end{equation}\n",
    "$$"
   ]
  },
  {
   "cell_type": "markdown",
   "id": "bd939ae2",
   "metadata": {},
   "source": [
    "<br><br><br>\n",
    "\n",
    "### Problem 5\n",
    "\n",
    "If the inverse of $A^2$ is the matrix $B$, show that the inverse of $A$ is the matrix $AB$."
   ]
  },
  {
   "cell_type": "markdown",
   "id": "50405964",
   "metadata": {},
   "source": [
    "<h3><font color=blue> Answer 5 </font> </h3>\n",
    "\n",
    "Assume that the inverse of $A^2$ is the matrix $B$.  Then we know by the definition of inverse matrices that $A^2B=I$ and that $BA^2=I$.\n",
    "\n",
    "To show that the inverse of $A$ is $AB$ we need to show that $A(AB) = I$ and that $(AB)A = I$.\n",
    "\n",
    "1. $A(AB) = A^2B = I$ by the associative property of matrix multiplication and the assumption.\n",
    "\n",
    "2. $(AB)A = ABAI = ABA(A^2B) = A(BA^2)AB = AIAB = A^2B = I$ using the assumptions and properties of matrix multiplication.\n"
   ]
  }
 ],
 "metadata": {
  "kernelspec": {
   "display_name": "Python 3",
   "language": "python",
   "name": "python3"
  },
  "language_info": {
   "codemirror_mode": {
    "name": "ipython",
    "version": 3
   },
   "file_extension": ".py",
   "mimetype": "text/x-python",
   "name": "python",
   "nbconvert_exporter": "python",
   "pygments_lexer": "ipython3",
   "version": "3.7.3"
  }
 },
 "nbformat": 4,
 "nbformat_minor": 5
}
