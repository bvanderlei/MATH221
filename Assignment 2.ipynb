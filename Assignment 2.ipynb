{
 "cells": [
  {
   "cell_type": "markdown",
   "id": "5eb54316",
   "metadata": {},
   "source": [
    "# MATH 221: Assignment 2\n",
    "<h3><font color= red>  Due Feb. 2 </font></h3>\n",
    "<h4> Up to three students may submit the same notebook.  Enter the names of all students who contributed to the assignment in the next cell.</h4>\n",
    "<h4> Please also include your names in the name of the notebook file you submit to Blackboard.</h4>\n",
    "<br><br>"
   ]
  },
  {
   "cell_type": "markdown",
   "id": "6d81fb37",
   "metadata": {},
   "source": [
    "## Names:\n",
    "\n",
    "<br>"
   ]
  },
  {
   "cell_type": "code",
   "execution_count": null,
   "id": "dd1883e9",
   "metadata": {},
   "outputs": [],
   "source": [
    "## IMPORTANT!!  Execute this import cell each time before you begin working.\n",
    "## Before you begin, transfer the laguide.py file from Blackboard to the JupyterHub.\n",
    "\n",
    "import numpy as np\n",
    "import laguide as lag"
   ]
  },
  {
   "cell_type": "markdown",
   "id": "0cbbe0cb",
   "metadata": {},
   "source": [
    "<br><br><br>\n",
    "\n",
    "### Problem 1a\n",
    "\n",
    "\n",
    "Find the $LU$ factorization of $A$ in the case that $v_2 \\neq 0$.\n",
    "\n",
    "$$\n",
    "\\begin{equation}\n",
    "A = \\left[ \\begin{array}{rrrr}  \n",
    "1 & v_1 & 0 & 0 \\\\  \n",
    "0 & v_2 & 0 & 0 \\\\ \n",
    "0 & v_3 & 1 & 0 \\\\ \n",
    "0 & v_4 & 0 & 1\n",
    "\\end{array} \\right] \n",
    "\\end{equation}\n",
    "$$\n"
   ]
  },
  {
   "cell_type": "markdown",
   "id": "1601999f",
   "metadata": {},
   "source": [
    "<h3><font color=blue> Answer 1a </font> </h3>\n",
    "\n",
    "$$\n",
    "\\begin{equation}\n",
    "L = \\left[ \\begin{array}{rrrr}  \n",
    "* & * & * & * \\\\  \n",
    "* & * & * & * \\\\ \n",
    "* & * & * & * \\\\\n",
    "* & * & * & * \\\\\n",
    "\\end{array} \\right]\n",
    "\\quad\\quad\n",
    "U = \\left[ \\begin{array}{rrrr}  \n",
    "* & * & * & * \\\\  \n",
    "* & * & * & * \\\\ \n",
    "* & * & * & * \\\\\n",
    "* & * & * & * \\\\\n",
    "\\end{array} \\right] \n",
    "\\end{equation}\n",
    "$$\n"
   ]
  },
  {
   "cell_type": "markdown",
   "id": "750d2bd7",
   "metadata": {},
   "source": [
    "### Problem 1b\n",
    "\n",
    "Find $A^{-1}$ in the case that $v_2 \\neq 0$.\n",
    "\n",
    "$$\n",
    "\\begin{equation}\n",
    "A = \\left[ \\begin{array}{rrrr}  \n",
    "1 & v_1 & 0 & 0 \\\\  \n",
    "0 & v_2 & 0 & 0 \\\\ \n",
    "0 & v_3 & 1 & 0 \\\\ \n",
    "0 & v_4 & 0 & 1\n",
    "\\end{array} \\right] \n",
    "\\end{equation}\n",
    "$$\n"
   ]
  },
  {
   "cell_type": "markdown",
   "id": "90149df9",
   "metadata": {},
   "source": [
    "<h3><font color=blue> Answer 1b </font> </h3>\n",
    "\n",
    "$$\n",
    "\\begin{equation}\n",
    "A^{-1} = \\left[ \\begin{array}{rrrr}  \n",
    "* & * & * & * \\\\  \n",
    "* & * & * & * \\\\ \n",
    "* & * & * & * \\\\\n",
    "* & * & * & * \\\\\n",
    "\\end{array} \\right] \n",
    "\\end{equation}\n",
    "$$\n"
   ]
  },
  {
   "cell_type": "markdown",
   "id": "a4180a9e",
   "metadata": {},
   "source": [
    "### Problem 1c\n",
    "\n",
    "Demonstrate that your formulas work when $v_1 = -1$, $v_2 = 2$, $v_3=8$, and $v_4=-3$.\n",
    "\n",
    "(*Use a code cell to build the matrices and show that $LU=A$ and that $AA^{-1} = I$.*)\n",
    "\n",
    "\n",
    "<h3><font color=blue> Answer 1c </font> </h3>"
   ]
  },
  {
   "cell_type": "code",
   "execution_count": null,
   "id": "cfc6e3dd",
   "metadata": {},
   "outputs": [],
   "source": [
    "## CODE HERE\n",
    "## Build L, U, A, and Ainverse.  Print L@U and A@Ainverse.\n"
   ]
  },
  {
   "cell_type": "markdown",
   "id": "fe5fdc08",
   "metadata": {},
   "source": [
    "<br><br><br>\n",
    "\n",
    "### Problem 2a\n",
    "\n",
    "Explain why $\\det{A^{-1}} = (\\det{A})^{-1}$ using only the definition of determinant or the other properties given by Theorems 2.2 and 2.3."
   ]
  },
  {
   "cell_type": "markdown",
   "id": "50405964",
   "metadata": {},
   "source": [
    "<h3><font color=blue> Answer 2a </font> </h3>\n",
    "\n",
    "(*Type your answer here.*)"
   ]
  },
  {
   "cell_type": "markdown",
   "id": "662e9a42",
   "metadata": {},
   "source": [
    "<br><br><br>\n",
    "\n",
    "### Problem 2b\n",
    "\n",
    "Use your result from Problem 2a and other properties of the determinant to compute $\\det{B^{-1}}$.  Do not use the formula for the determinant.\n",
    "\n",
    "$$\n",
    "\\begin{equation}\n",
    "B = \\left[ \\begin{array}{rrrr}  \n",
    "3 & 2 & 2 & 8 \\\\  \n",
    "0 & 6 & -2 & 5 \\\\ \n",
    "0 & 0 & -1 & 0 \\\\ \n",
    "0 & 0 & 0 & 3\n",
    "\\end{array} \\right] \n",
    "\\end{equation}\n",
    "$$\n"
   ]
  },
  {
   "cell_type": "markdown",
   "id": "7637c75f",
   "metadata": {},
   "source": [
    "<h3><font color=blue> Answer 2b </font> </h3>\n",
    "\n",
    "\n",
    "(*Type your answer here and show how it was calculated.*)"
   ]
  },
  {
   "cell_type": "markdown",
   "id": "cf2c8b67",
   "metadata": {},
   "source": [
    "<br><br><br>\n",
    "\n",
    "### Problem 3\n",
    "Find permutation matrices that fit the following descriptions.  **Show calculations with Python code to verify that your examples work.**\n",
    "\n",
    "<br><br>\n",
    "\n",
    "Find a $3\\times 3$ permutation matrix $P_3$ such that $P_3^3 = I$ but $P_3^k\\neq I$ for $k<3$.  \n",
    "\n",
    "<h3><font color=blue> Answer 3a </font> </h3>"
   ]
  },
  {
   "cell_type": "code",
   "execution_count": null,
   "id": "4333d3de",
   "metadata": {},
   "outputs": [],
   "source": [
    "## CODE HERE\n",
    "## Print P, P@P, and P@P@P\n"
   ]
  },
  {
   "cell_type": "markdown",
   "id": "da7268e0",
   "metadata": {},
   "source": [
    "<br><br>\n",
    "\n",
    "Find a $5\\times 5$ permutation matrix $P_5$ such that $P_5^5 = I$ but $P_5^k\\neq I$ for $k<5$.  \n",
    "\n",
    "<h3><font color=blue> Answer 3b </font> </h3>"
   ]
  },
  {
   "cell_type": "code",
   "execution_count": null,
   "id": "5946954d",
   "metadata": {},
   "outputs": [],
   "source": [
    "## CODE HERE\n",
    "## Print P, P@P, P@P@P, P@P@P@P, and P@P@P@P@P\n",
    "\n"
   ]
  },
  {
   "cell_type": "markdown",
   "id": "be1e0b76",
   "metadata": {},
   "source": [
    "<br><br><br>\n",
    "\n",
    "### Problem 4a\n",
    "\n",
    "Suppose that $n>2$ and $C$ is an $n\\times n$ matrix with $[C]_{ij} = i+j$.  Explain why $\\det{C} = 0$.  \n",
    "\n",
    "*You may do some calculations to see that the statement is true for a specific value of $n$, but your explanation should not depend on a specific value of $n$.*"
   ]
  },
  {
   "cell_type": "code",
   "execution_count": null,
   "id": "6fb618b6",
   "metadata": {},
   "outputs": [],
   "source": [
    "## The following lines of code create the matrix C.\n",
    "\n",
    "n = 5\n",
    "C = np.zeros((n,n))\n",
    "for i in range(n):\n",
    "    for j in range(n):\n",
    "        C[i,j] = i + j\n",
    "\n",
    "\n",
    "## Hint: Row operations do not change the value of the determinant.\n"
   ]
  },
  {
   "cell_type": "markdown",
   "id": "f9bd56d3",
   "metadata": {},
   "source": [
    "<h3><font color=blue> Answer 4a </font> </h3>\n",
    "\n",
    "(*Type your explanation here*.)\n"
   ]
  },
  {
   "cell_type": "markdown",
   "id": "bd939ae2",
   "metadata": {},
   "source": [
    "<br><br><br>\n",
    "\n",
    "### Problem 5a\n",
    "\n",
    "Let $T_n$ be the $n\\times n$ **tridiagonal** matrix with 1s along the three central diagonals.  $T_4$ \n",
    "is shown here as an example\n",
    "\n",
    "$$\n",
    "\\begin{equation}\n",
    "T_4 = \\left[ \\begin{array}{rrrr}  \n",
    "1 & 1 & 0 & 0 \\\\  \n",
    "1 & 1 & 1 & 0 \\\\ \n",
    "0 & 1 & 1 & 1 \\\\ \n",
    "0 & 0 & 1 & 1 \n",
    "\\end{array} \\right] \n",
    "\\end{equation}\n",
    "$$\n",
    "\n",
    "Use the cofactor expansion to show that $\\det T_n = \\det T_{n-1}- \\det T_{n-2}$."
   ]
  },
  {
   "cell_type": "markdown",
   "id": "9fcd7e9f",
   "metadata": {},
   "source": [
    "<h3><font color=blue> Answer 5a </font> </h3>\n",
    "\n",
    "(*Type your explanation here.*)"
   ]
  },
  {
   "cell_type": "markdown",
   "id": "f4d23e20",
   "metadata": {},
   "source": [
    "\n",
    "### Problem 5b\n",
    "\n",
    "Use the result of Problem 5a to calculate $\\det T_{1000}$.\n"
   ]
  },
  {
   "cell_type": "markdown",
   "id": "bf918e3f",
   "metadata": {},
   "source": [
    "<h3><font color=blue> Answer 5b </font> </h3>\n",
    "\n",
    "(*Type your answer here.*)"
   ]
  }
 ],
 "metadata": {
  "kernelspec": {
   "display_name": "Python 3",
   "language": "python",
   "name": "python3"
  },
  "language_info": {
   "codemirror_mode": {
    "name": "ipython",
    "version": 3
   },
   "file_extension": ".py",
   "mimetype": "text/x-python",
   "name": "python",
   "nbconvert_exporter": "python",
   "pygments_lexer": "ipython3",
   "version": "3.7.3"
  }
 },
 "nbformat": 4,
 "nbformat_minor": 5
}
