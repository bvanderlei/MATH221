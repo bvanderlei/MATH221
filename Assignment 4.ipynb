{
 "cells": [
  {
   "cell_type": "markdown",
   "id": "5eb54316",
   "metadata": {},
   "source": [
    "# MATH 221: Assignment 4\n",
    "<h3><font color= red>  Due Mar. 30 </font></h3>\n",
    "<h4> Up to three students may submit the same notebook.  Enter the names of all students who contributed to the assignment in the next cell.</h4>\n",
    "<h4> Please also include your names in the name of the notebook file you submit to Blackboard.</h4>\n",
    "<br><br>"
   ]
  },
  {
   "cell_type": "markdown",
   "id": "6d81fb37",
   "metadata": {},
   "source": [
    "## Names:\n",
    "\n",
    "<br>"
   ]
  },
  {
   "cell_type": "code",
   "execution_count": 4,
   "id": "dd1883e9",
   "metadata": {},
   "outputs": [],
   "source": [
    "## IMPORTANT!!  Execute this import cell each time before you begin working.\n",
    "## Before you begin, transfer the laguide.py file from Blackboard to the JupyterHub.\n",
    "\n",
    "%matplotlib inline\n",
    "import matplotlib.pyplot as plt\n",
    "import numpy as np\n",
    "import laguide as lag"
   ]
  },
  {
   "cell_type": "markdown",
   "id": "17effa52",
   "metadata": {},
   "source": [
    "**For this assignment** you may want to make use of the $\\texttt{DotProduct}$ function in the $\\texttt{laguide}$ module.  Here is an example of how it is called."
   ]
  },
  {
   "cell_type": "code",
   "execution_count": 5,
   "id": "b520236d",
   "metadata": {},
   "outputs": [
    {
     "name": "stdout",
     "output_type": "stream",
     "text": [
      "-9.0\n"
     ]
    }
   ],
   "source": [
    "x = np.array([[1],[3],[5],[-2]])\n",
    "y = np.array([[-2],[3],[0],[8]])\n",
    "print(lag.DotProduct(x,y))\n"
   ]
  },
  {
   "cell_type": "markdown",
   "id": "0cbbe0cb",
   "metadata": {},
   "source": [
    "<br><br><br>\n",
    "\n",
    "### Problem 1a\n",
    "\n",
    "\n",
    "Give bases for the four fundamental subspaces of the matrix $A$\n",
    "\n",
    "$$\n",
    "\\begin{equation}\n",
    "A = \\left[ \\begin{array}{rrrrr}  1 & 1 & 0 & 2 & -1 \\\\  1 & 0 & 1 & -1 & 0 \n",
    " \\\\ 3 & 1 & 2 & 0 & -1 \\end{array} \\right] \n",
    "\\end{equation}\n",
    "$$\n",
    "\n"
   ]
  },
  {
   "cell_type": "markdown",
   "id": "1601999f",
   "metadata": {},
   "source": [
    "<h3><font color=blue> Answer 1a </font> </h3>\n",
    "\n",
    "Basis for $\\mathcal{R}(A)$ is\n",
    "\n",
    "<br><br>\n",
    "\n",
    "Basis for $\\mathcal{C}(A)$ is\n",
    "\n",
    "<br><br>\n",
    "\n",
    "Basis for $\\mathcal{N}(A)$ is\n",
    "\n",
    "<br><br>\n",
    "\n",
    "Basis for $\\mathcal{N}(A^T)$ is\n"
   ]
  },
  {
   "cell_type": "markdown",
   "id": "750d2bd7",
   "metadata": {},
   "source": [
    "### Problem 1b\n",
    "\n",
    "Demonstrate that all basis vectors of $\\mathcal{R}(A)$ are orthogonal to all basis vectors of $\\mathcal{N}(A)$.\n",
    "\n",
    "(*Use a code cell to build each of the vectors and compute all dot products.*)\n",
    "\n"
   ]
  },
  {
   "cell_type": "markdown",
   "id": "90149df9",
   "metadata": {},
   "source": [
    "<h3><font color=blue> Answer 1b </font> </h3>\n",
    "\n"
   ]
  },
  {
   "cell_type": "code",
   "execution_count": 6,
   "id": "4e5ea4b8",
   "metadata": {},
   "outputs": [],
   "source": [
    "## CODE HERE\n"
   ]
  },
  {
   "cell_type": "markdown",
   "id": "a4180a9e",
   "metadata": {},
   "source": [
    "### Problem 1c\n",
    "\n",
    "Demonstrate that all basis vectors of $\\mathcal{C}(A)$ are orthogonal to all basis vectors of $\\mathcal{N}(A^T)$.\n",
    "\n",
    "(*Use a code cell to build each of the vectors and compute all dot products.*)\n",
    "\n",
    "**BONUS:** Show how this can be done with a single matrix multiplication.\n",
    "\n",
    "<h3><font color=blue> Answer 1c </font> </h3>"
   ]
  },
  {
   "cell_type": "code",
   "execution_count": 7,
   "id": "cfc6e3dd",
   "metadata": {},
   "outputs": [],
   "source": [
    "## CODE HERE\n"
   ]
  },
  {
   "cell_type": "markdown",
   "id": "fe5fdc08",
   "metadata": {},
   "source": [
    "<br><br><br>\n",
    "\n",
    "### Problem 2a\n",
    "\n",
    "Determine the $QR$ factorization of the following matrix.\n",
    "\n",
    "$$\n",
    "\\begin{equation}\n",
    "A= \\left[ \\begin{array}{rr}  1 & 1  \\\\  2 & 3 \\\\ 2  & 1 \\end{array} \\right] \n",
    "\\end{equation}\n",
    "$$\n"
   ]
  },
  {
   "cell_type": "markdown",
   "id": "50405964",
   "metadata": {},
   "source": [
    "<h3><font color=blue> Answer 2a </font> </h3>\n",
    "\n",
    "(*Type your answer here.*)\n",
    "\n",
    "$$\n",
    "\\begin{equation}\n",
    "Q=  \n",
    "\\end{equation}\n",
    "$$\n",
    "\n",
    "$$\n",
    "\\begin{equation}\n",
    "R=  \n",
    "\\end{equation}\n",
    "$$"
   ]
  },
  {
   "cell_type": "code",
   "execution_count": 8,
   "id": "e98a8197",
   "metadata": {},
   "outputs": [],
   "source": [
    "## CODE HERE\n",
    "## Build Q and R. Show that QR = A and that Q^TQ is the identity"
   ]
  },
  {
   "cell_type": "markdown",
   "id": "662e9a42",
   "metadata": {},
   "source": [
    "<br><br><br>\n",
    "\n",
    "### Problem 2b\n",
    "\n",
    "Use your result from Problem 2a to find the least squares solution to the system $Ax=b$ where \n",
    "\n",
    "$$\n",
    "\\begin{equation}\n",
    "b = \\left[ \\begin{array}{r}  1 \\\\ 0 \\\\ -1 \\end{array} \\right]\n",
    "\\end{equation}\n",
    "$$\n",
    "\n",
    "Use the $QR$ factorization.  **Do not solve the normal equations.**"
   ]
  },
  {
   "cell_type": "markdown",
   "id": "7637c75f",
   "metadata": {},
   "source": [
    "<h3><font color=blue> Answer 2b </font> </h3>\n",
    "\n",
    "\n",
    "(*Type your answer here and show how it was calculated.*)"
   ]
  },
  {
   "cell_type": "code",
   "execution_count": 9,
   "id": "29d4386e",
   "metadata": {},
   "outputs": [],
   "source": [
    "## OR CODE YOUR ANSWER HERE"
   ]
  },
  {
   "cell_type": "markdown",
   "id": "9dad9a25",
   "metadata": {},
   "source": [
    "<br><br><br>\n",
    "\n",
    "### Problem 3a\n",
    "\n",
    "Let $U = \\{[x_1\\, x_2\\, x_3\\, x_4]^T : x_1 + 3x_2 + x_3 -2x_4 = 0 \\}$.  Find the matrix $P$ that projects vectors orthogonally onto $U$.\n",
    "\n",
    "<br><br>\n"
   ]
  },
  {
   "cell_type": "markdown",
   "id": "cf2c8b67",
   "metadata": {},
   "source": [
    "<h3><font color=blue> Answer 3a </font> </h3>\n",
    "\n",
    "$$\n",
    "\\begin{equation}\n",
    "P = \\left[ \\begin{array}{rrrr}  \n",
    "* & * & * & * \\\\\n",
    "* & * & * & * \\\\\n",
    "* & * & * & * \\\\\n",
    "* & * & * & * \n",
    "\\end{array} \\right] \n",
    "\\end{equation}\n",
    "$$\n"
   ]
  },
  {
   "cell_type": "markdown",
   "id": "7226ca53",
   "metadata": {},
   "source": [
    "<br><br><br>\n",
    "\n",
    "### Problem 3b\n",
    "\n",
    "Demonstrate that your matrix is a projection matrix by showing that $P^2=P$.\n"
   ]
  },
  {
   "cell_type": "markdown",
   "id": "da7268e0",
   "metadata": {},
   "source": [
    "<br><br>\n",
    "\n",
    "\n",
    "<h3><font color=blue> Answer 3b </font> </h3>"
   ]
  },
  {
   "cell_type": "code",
   "execution_count": 10,
   "id": "5946954d",
   "metadata": {},
   "outputs": [],
   "source": [
    "## CODE HERE\n",
    "## Build P and print P and P@P\n"
   ]
  },
  {
   "cell_type": "markdown",
   "id": "2eeb7aec",
   "metadata": {},
   "source": [
    "<br><br><br>\n",
    "\n",
    "### Problem 3c\n",
    "\n",
    "Demonstrate that your matrix projects to the correct subspace by showing that $Px$ is actually in $U$ for\n",
    "\n",
    "$$\n",
    "\\begin{equation}\n",
    "x = \\left[ \\begin{array}{r}  1 \\\\ 0 \\\\ 0 \\\\ 1 \\end{array} \\right]\n",
    "\\end{equation}\n",
    "$$\n",
    "\n"
   ]
  },
  {
   "cell_type": "markdown",
   "id": "911953c9",
   "metadata": {},
   "source": [
    "<br><br>\n",
    "\n",
    "\n",
    "<h3><font color=blue> Answer 3c </font> </h3>"
   ]
  },
  {
   "cell_type": "code",
   "execution_count": 11,
   "id": "e5dcda82",
   "metadata": {},
   "outputs": [],
   "source": [
    "## CODE HERE\n",
    "## Print P@x and show that P@x is in U.\n"
   ]
  },
  {
   "cell_type": "markdown",
   "id": "be1e0b76",
   "metadata": {},
   "source": [
    "<br><br><br>\n",
    "\n",
    "### Problem 4a\n",
    "\n",
    "Given the points  $(-1,0)$, $(0,1)$, $(1,3)$, and $(2,9)$, find the parabola $y=A + Bx + Cx^2$ that best fits through the points in the sense of least squares.\n",
    "\n"
   ]
  },
  {
   "cell_type": "markdown",
   "id": "f9bd56d3",
   "metadata": {},
   "source": [
    "<h3><font color=blue> Answer 4a </font> </h3>\n",
    "\n",
    "(*Type your explanation here*.)\n"
   ]
  },
  {
   "cell_type": "code",
   "execution_count": 12,
   "id": "964d1fa5",
   "metadata": {},
   "outputs": [],
   "source": [
    "## OR CODE SOLUTION HERE\n"
   ]
  },
  {
   "cell_type": "markdown",
   "id": "9eb8fd9b",
   "metadata": {},
   "source": [
    "Enter your values of $A$, $B$, and $C$ into the code block below to see a plot of your result\n"
   ]
  },
  {
   "cell_type": "code",
   "execution_count": 16,
   "id": "fff588c8",
   "metadata": {},
   "outputs": [
    {
     "data": {
      "image/png": "[encoded data removed]",
      "text/plain": [
       "<Figure size 432x288 with 1 Axes>"
      ]
     },
     "metadata": {
      "needs_background": "light"
     },
     "output_type": "display_data"
    }
   ],
   "source": [
    "A = 0.1\n",
    "B = 2\n",
    "C = 1\n",
    "\n",
    "\n",
    "x = np.array([-1, 0, 1, 2])\n",
    "y = np.array([0, 1, 3, 9])\n",
    "\n",
    "fig,ax = plt.subplots()\n",
    "\n",
    "x_fit = np.linspace(-5,5,100)\n",
    "y_fit = A + B*x_fit + C*x_fit**2\n",
    "\n",
    "ax.plot(x,y,'ro');\n",
    "ax.plot(x_fit,y_fit,'b',ls=':');\n",
    "\n",
    "ax.set_xlim(-5,5);\n",
    "ax.set_ylim(-2,10);\n",
    "ax.axvline(color='k',linewidth = 1)\n",
    "ax.axhline(color='k',linewidth = 1)\n",
    "ax.grid('True',ls=':')"
   ]
  },
  {
   "cell_type": "markdown",
   "id": "bd939ae2",
   "metadata": {},
   "source": [
    "<br><br><br>\n",
    "\n",
    "### Problem 5a\n",
    "\n",
    " $C[-\\pi,\\pi]$ is the space of continuous functions on $[-\\pi,\\pi]$.  An inner product on this space can be defined as\n",
    "\n",
    "$\n",
    "\\begin{equation}\n",
    "\\left<f,g\\right> = \\int_{-\\pi}^{\\pi}f(x)g(x)\\,dx\n",
    "\\end{equation}\n",
    "$\n",
    "\n",
    "Find the linear function $y(x)=mx+b$ such that $||y-\\sin{2x}||^2$ is minimized.\n",
    "\n"
   ]
  },
  {
   "cell_type": "markdown",
   "id": "9fcd7e9f",
   "metadata": {},
   "source": [
    "<h3><font color=blue> Answer 5a </font> </h3>\n",
    "\n",
    "(*Type your calculation here.*)"
   ]
  },
  {
   "cell_type": "markdown",
   "id": "b73650da",
   "metadata": {},
   "source": [
    "Enter your values of $m$ and $b$ into the code block below to see a plot of your result\n"
   ]
  },
  {
   "cell_type": "code",
   "execution_count": null,
   "id": "afde4bd7",
   "metadata": {},
   "outputs": [],
   "source": [
    "m = -0.2\n",
    "b = 0.1\n",
    "\n",
    "fig,ax = plt.subplots()\n",
    "\n",
    "x_plot = np.linspace(-5,5,100)\n",
    "y_sin = np.sin(2*x_plot)\n",
    "y_line = m*x_plot + b\n",
    "\n",
    "ax.plot(x_plot,y_line,'b',ls=':');\n",
    "ax.plot(x_plot,y_sin,'r');\n",
    "\n",
    "ax.set_xlim(-3,3);\n",
    "ax.set_ylim(-2,2);\n",
    "ax.axvline(color='k',linewidth = 1)\n",
    "ax.axhline(color='k',linewidth = 1)\n",
    "ax.grid('True',ls=':')"
   ]
  }
 ],
 "metadata": {
  "kernelspec": {
   "display_name": "Python 3",
   "language": "python",
   "name": "python3"
  },
  "language_info": {
   "codemirror_mode": {
    "name": "ipython",
    "version": 3
   },
   "file_extension": ".py",
   "mimetype": "text/x-python",
   "name": "python",
   "nbconvert_exporter": "python",
   "pygments_lexer": "ipython3",
   "version": "3.7.3"
  }
 },
 "nbformat": 4,
 "nbformat_minor": 5
}
